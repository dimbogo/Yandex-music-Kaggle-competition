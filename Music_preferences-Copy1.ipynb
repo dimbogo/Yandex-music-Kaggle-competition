{
 "cells": [
  {
   "cell_type": "code",
   "execution_count": 38,
   "id": "06ec9386",
   "metadata": {},
   "outputs": [],
   "source": [
    "import pandas as pd\n",
    "import numpy as np\n",
    "import sklearn as sk\n",
    "import sklearn.model_selection\n",
    "import matplotlib.pyplot as plt\n",
    "import seaborn as sns\n",
    "from sklearn.manifold import TSNE\n",
    "from sklearn.metrics import accuracy_score\n",
    "\n",
    "pd.options.display.max_columns = 200\n",
    "\n",
    "df_train = pd.read_csv('train.csv')\n",
    "df_test = pd.read_csv('test.csv')\n",
    "df = pd.concat([df_train, df_test], axis=0)"
   ]
  },
  {
   "cell_type": "code",
   "execution_count": 39,
   "id": "4ed83ee2",
   "metadata": {},
   "outputs": [],
   "source": [
    "learning_rate_for_tsne = 200\n",
    "init_for_tsne='pca'"
   ]
  },
  {
   "cell_type": "code",
   "execution_count": 40,
   "id": "51aa7077",
   "metadata": {},
   "outputs": [],
   "source": [
    "df['Category'] = df['Category'].replace([0,1], ['dislike', 'like'])\n",
    "df['Category'] = df['Category'].fillna('No_info')"
   ]
  },
  {
   "cell_type": "code",
   "execution_count": 41,
   "id": "a064a072",
   "metadata": {},
   "outputs": [
    {
     "data": {
      "text/plain": [
       "like       351\n",
       "dislike    314\n",
       "No_info    300\n",
       "Name: Category, dtype: int64"
      ]
     },
     "execution_count": 41,
     "metadata": {},
     "output_type": "execute_result"
    }
   ],
   "source": [
    "df['Category'].value_counts()"
   ]
  },
  {
   "cell_type": "code",
   "execution_count": 42,
   "id": "ea160e40",
   "metadata": {},
   "outputs": [
    {
     "data": {
      "text/plain": [
       "Id                  0\n",
       "Category            0\n",
       "Artists             1\n",
       "Track               0\n",
       "Version           836\n",
       "Duration            0\n",
       "Artists_Genres      0\n",
       "Album               2\n",
       "Release_year        0\n",
       "Album_type        753\n",
       "Labels              6\n",
       "Key                 0\n",
       "BPM                 0\n",
       "Vocal               1\n",
       "Country            12\n",
       "Energy              1\n",
       "Dancebility         1\n",
       "Happiness           1\n",
       "dtype: int64"
      ]
     },
     "execution_count": 42,
     "metadata": {},
     "output_type": "execute_result"
    }
   ],
   "source": [
    "df.isna().sum()"
   ]
  },
  {
   "cell_type": "code",
   "execution_count": 43,
   "id": "8310abe6",
   "metadata": {},
   "outputs": [
    {
     "data": {
      "text/plain": [
       "Soundtrack     48\n",
       "Radio Edit     36\n",
       "Remaster       33\n",
       "Single Edit     7\n",
       "Remix           5\n",
       "Name: Version, dtype: int64"
      ]
     },
     "execution_count": 43,
     "metadata": {},
     "output_type": "execute_result"
    }
   ],
   "source": [
    "df['Version'].value_counts()"
   ]
  },
  {
   "cell_type": "code",
   "execution_count": 44,
   "id": "fcbc4b6a",
   "metadata": {},
   "outputs": [],
   "source": [
    "from sklearn.preprocessing import LabelEncoder, OneHotEncoder\n",
    "\n",
    "df[\"Version\"] = df[\"Version\"].fillna(\"N\")\n",
    "versions = set(df[\"Version\"])\n",
    "df[list(versions)] = OneHotEncoder().fit_transform(df[[\"Version\"]]).toarray()\n",
    "df = df.drop([\"Version\",\"N\"], axis=1)"
   ]
  },
  {
   "cell_type": "code",
   "execution_count": 45,
   "id": "f12d6655",
   "metadata": {},
   "outputs": [
    {
     "data": {
      "text/plain": [
       "single         167\n",
       "compilation     45\n",
       "Name: Album_type, dtype: int64"
      ]
     },
     "execution_count": 45,
     "metadata": {},
     "output_type": "execute_result"
    }
   ],
   "source": [
    "df['Album_type'].value_counts()"
   ]
  },
  {
   "cell_type": "code",
   "execution_count": 46,
   "id": "bcefb563",
   "metadata": {},
   "outputs": [],
   "source": [
    "df[\"Album_type\"] = df[\"Album_type\"].fillna(\"N\")\n",
    "album_types = set(df[\"Album_type\"])\n",
    "df[list(album_types)] = OneHotEncoder().fit_transform(df[[\"Album_type\"]]).toarray()\n",
    "df = df.drop([\"Album_type\",\"N\"], axis=1)"
   ]
  },
  {
   "cell_type": "code",
   "execution_count": 47,
   "id": "15c19aff",
   "metadata": {},
   "outputs": [
    {
     "data": {
      "text/html": [
       "<div>\n",
       "<style scoped>\n",
       "    .dataframe tbody tr th:only-of-type {\n",
       "        vertical-align: middle;\n",
       "    }\n",
       "\n",
       "    .dataframe tbody tr th {\n",
       "        vertical-align: top;\n",
       "    }\n",
       "\n",
       "    .dataframe thead th {\n",
       "        text-align: right;\n",
       "    }\n",
       "</style>\n",
       "<table border=\"1\" class=\"dataframe\">\n",
       "  <thead>\n",
       "    <tr style=\"text-align: right;\">\n",
       "      <th></th>\n",
       "      <th>Id</th>\n",
       "      <th>Category</th>\n",
       "      <th>Artists</th>\n",
       "      <th>Track</th>\n",
       "      <th>Duration</th>\n",
       "      <th>Artists_Genres</th>\n",
       "      <th>Album</th>\n",
       "      <th>Release_year</th>\n",
       "      <th>Labels</th>\n",
       "      <th>Key</th>\n",
       "      <th>BPM</th>\n",
       "      <th>Vocal</th>\n",
       "      <th>Country</th>\n",
       "      <th>Energy</th>\n",
       "      <th>Dancebility</th>\n",
       "      <th>Happiness</th>\n",
       "      <th>Remaster</th>\n",
       "      <th>Single Edit</th>\n",
       "      <th>Radio Edit</th>\n",
       "      <th>Soundtrack</th>\n",
       "      <th>Remix</th>\n",
       "      <th>single</th>\n",
       "      <th>compilation</th>\n",
       "    </tr>\n",
       "  </thead>\n",
       "  <tbody>\n",
       "    <tr>\n",
       "      <th>0</th>\n",
       "      <td>0</td>\n",
       "      <td>dislike</td>\n",
       "      <td>Avatar</td>\n",
       "      <td>Hail the Apocalypse</td>\n",
       "      <td>253660</td>\n",
       "      <td>metal</td>\n",
       "      <td>Hail the Apocalypse</td>\n",
       "      <td>2014</td>\n",
       "      <td>Gain</td>\n",
       "      <td>F# Major</td>\n",
       "      <td>93</td>\n",
       "      <td>M</td>\n",
       "      <td>SWE</td>\n",
       "      <td>99.0</td>\n",
       "      <td>42.0</td>\n",
       "      <td>30.0</td>\n",
       "      <td>1.0</td>\n",
       "      <td>0.0</td>\n",
       "      <td>0.0</td>\n",
       "      <td>0.0</td>\n",
       "      <td>0.0</td>\n",
       "      <td>1.0</td>\n",
       "      <td>0.0</td>\n",
       "    </tr>\n",
       "    <tr>\n",
       "      <th>1</th>\n",
       "      <td>1</td>\n",
       "      <td>like</td>\n",
       "      <td>Céline Dion</td>\n",
       "      <td>My Heart Will Go On</td>\n",
       "      <td>284150</td>\n",
       "      <td>soundtrack|classical|pop</td>\n",
       "      <td>My Love Ultimate Essential Collection</td>\n",
       "      <td>2019</td>\n",
       "      <td>Sony Music Entertainment Canada</td>\n",
       "      <td>E Major</td>\n",
       "      <td>99</td>\n",
       "      <td>F</td>\n",
       "      <td>CA</td>\n",
       "      <td>28.0</td>\n",
       "      <td>43.0</td>\n",
       "      <td>4.0</td>\n",
       "      <td>0.0</td>\n",
       "      <td>0.0</td>\n",
       "      <td>0.0</td>\n",
       "      <td>0.0</td>\n",
       "      <td>0.0</td>\n",
       "      <td>1.0</td>\n",
       "      <td>0.0</td>\n",
       "    </tr>\n",
       "    <tr>\n",
       "      <th>2</th>\n",
       "      <td>2</td>\n",
       "      <td>like</td>\n",
       "      <td>Adele</td>\n",
       "      <td>Skyfall</td>\n",
       "      <td>286480</td>\n",
       "      <td>pop</td>\n",
       "      <td>Skyfall</td>\n",
       "      <td>2012</td>\n",
       "      <td>Melted Stone|Skyfall|Columbia</td>\n",
       "      <td>C Minor</td>\n",
       "      <td>76</td>\n",
       "      <td>F</td>\n",
       "      <td>GB</td>\n",
       "      <td>55.0</td>\n",
       "      <td>35.0</td>\n",
       "      <td>8.0</td>\n",
       "      <td>0.0</td>\n",
       "      <td>0.0</td>\n",
       "      <td>0.0</td>\n",
       "      <td>0.0</td>\n",
       "      <td>0.0</td>\n",
       "      <td>0.0</td>\n",
       "      <td>0.0</td>\n",
       "    </tr>\n",
       "    <tr>\n",
       "      <th>3</th>\n",
       "      <td>3</td>\n",
       "      <td>like</td>\n",
       "      <td>Kiss</td>\n",
       "      <td>I Was Made for Lovin' You</td>\n",
       "      <td>268440</td>\n",
       "      <td>hardrock|rock|foreignrap</td>\n",
       "      <td>KISS Box Set</td>\n",
       "      <td>2001</td>\n",
       "      <td>The Island Def Jam</td>\n",
       "      <td>E Major</td>\n",
       "      <td>128</td>\n",
       "      <td>M</td>\n",
       "      <td>USA</td>\n",
       "      <td>85.0</td>\n",
       "      <td>77.0</td>\n",
       "      <td>87.0</td>\n",
       "      <td>0.0</td>\n",
       "      <td>0.0</td>\n",
       "      <td>0.0</td>\n",
       "      <td>0.0</td>\n",
       "      <td>0.0</td>\n",
       "      <td>1.0</td>\n",
       "      <td>0.0</td>\n",
       "    </tr>\n",
       "    <tr>\n",
       "      <th>4</th>\n",
       "      <td>4</td>\n",
       "      <td>dislike</td>\n",
       "      <td>Kanye West</td>\n",
       "      <td>Stronger</td>\n",
       "      <td>311420</td>\n",
       "      <td>foreignrap</td>\n",
       "      <td>Graduation</td>\n",
       "      <td>2007</td>\n",
       "      <td>A Roc-A-Fella Records release</td>\n",
       "      <td>B♭ Minor</td>\n",
       "      <td>104</td>\n",
       "      <td>M</td>\n",
       "      <td>USA</td>\n",
       "      <td>72.0</td>\n",
       "      <td>62.0</td>\n",
       "      <td>49.0</td>\n",
       "      <td>1.0</td>\n",
       "      <td>0.0</td>\n",
       "      <td>0.0</td>\n",
       "      <td>0.0</td>\n",
       "      <td>0.0</td>\n",
       "      <td>1.0</td>\n",
       "      <td>0.0</td>\n",
       "    </tr>\n",
       "  </tbody>\n",
       "</table>\n",
       "</div>"
      ],
      "text/plain": [
       "   Id Category      Artists                      Track  Duration  \\\n",
       "0   0  dislike       Avatar        Hail the Apocalypse    253660   \n",
       "1   1     like  Céline Dion        My Heart Will Go On    284150   \n",
       "2   2     like        Adele                    Skyfall    286480   \n",
       "3   3     like         Kiss  I Was Made for Lovin' You    268440   \n",
       "4   4  dislike   Kanye West                   Stronger    311420   \n",
       "\n",
       "             Artists_Genres                                  Album  \\\n",
       "0                     metal                    Hail the Apocalypse   \n",
       "1  soundtrack|classical|pop  My Love Ultimate Essential Collection   \n",
       "2                       pop                                Skyfall   \n",
       "3  hardrock|rock|foreignrap                           KISS Box Set   \n",
       "4                foreignrap                             Graduation   \n",
       "\n",
       "   Release_year                           Labels       Key  BPM Vocal   \\\n",
       "0          2014                             Gain  F# Major   93      M   \n",
       "1          2019  Sony Music Entertainment Canada   E Major   99      F   \n",
       "2          2012    Melted Stone|Skyfall|Columbia   C Minor   76      F   \n",
       "3          2001               The Island Def Jam   E Major  128      M   \n",
       "4          2007    A Roc-A-Fella Records release  B♭ Minor  104      M   \n",
       "\n",
       "  Country  Energy  Dancebility  Happiness  Remaster  Single Edit  Radio Edit  \\\n",
       "0     SWE    99.0         42.0       30.0       1.0          0.0         0.0   \n",
       "1      CA    28.0         43.0        4.0       0.0          0.0         0.0   \n",
       "2      GB    55.0         35.0        8.0       0.0          0.0         0.0   \n",
       "3     USA    85.0         77.0       87.0       0.0          0.0         0.0   \n",
       "4     USA    72.0         62.0       49.0       1.0          0.0         0.0   \n",
       "\n",
       "   Soundtrack  Remix  single  compilation  \n",
       "0         0.0    0.0     1.0          0.0  \n",
       "1         0.0    0.0     1.0          0.0  \n",
       "2         0.0    0.0     0.0          0.0  \n",
       "3         0.0    0.0     1.0          0.0  \n",
       "4         0.0    0.0     1.0          0.0  "
      ]
     },
     "execution_count": 47,
     "metadata": {},
     "output_type": "execute_result"
    }
   ],
   "source": [
    "df.head()"
   ]
  },
  {
   "cell_type": "code",
   "execution_count": 48,
   "id": "e1fccc92",
   "metadata": {},
   "outputs": [
    {
     "data": {
      "text/html": [
       "<div>\n",
       "<style scoped>\n",
       "    .dataframe tbody tr th:only-of-type {\n",
       "        vertical-align: middle;\n",
       "    }\n",
       "\n",
       "    .dataframe tbody tr th {\n",
       "        vertical-align: top;\n",
       "    }\n",
       "\n",
       "    .dataframe thead th {\n",
       "        text-align: right;\n",
       "    }\n",
       "</style>\n",
       "<table border=\"1\" class=\"dataframe\">\n",
       "  <thead>\n",
       "    <tr style=\"text-align: right;\">\n",
       "      <th></th>\n",
       "      <th>Id</th>\n",
       "      <th>Category</th>\n",
       "      <th>Artists</th>\n",
       "      <th>Track</th>\n",
       "      <th>Duration</th>\n",
       "      <th>Artists_Genres</th>\n",
       "      <th>Album</th>\n",
       "      <th>Release_year</th>\n",
       "      <th>Labels</th>\n",
       "      <th>Key</th>\n",
       "      <th>BPM</th>\n",
       "      <th>Vocal</th>\n",
       "      <th>Country</th>\n",
       "      <th>Energy</th>\n",
       "      <th>Dancebility</th>\n",
       "      <th>Happiness</th>\n",
       "      <th>Remaster</th>\n",
       "      <th>Single Edit</th>\n",
       "      <th>Radio Edit</th>\n",
       "      <th>Soundtrack</th>\n",
       "      <th>Remix</th>\n",
       "      <th>single</th>\n",
       "      <th>compilation</th>\n",
       "    </tr>\n",
       "  </thead>\n",
       "  <tbody>\n",
       "    <tr>\n",
       "      <th>30</th>\n",
       "      <td>30</td>\n",
       "      <td>dislike</td>\n",
       "      <td>Sub Focus|Alex Clare|Fred V|Grafix|N Douwma</td>\n",
       "      <td>Endorphins</td>\n",
       "      <td>275330</td>\n",
       "      <td>pop|dance|dnb|rock|electronics</td>\n",
       "      <td>UKF Drum &amp; Bass 2013</td>\n",
       "      <td>2013</td>\n",
       "      <td>UKF</td>\n",
       "      <td>B Minor</td>\n",
       "      <td>174</td>\n",
       "      <td>M</td>\n",
       "      <td>NaN</td>\n",
       "      <td>86.0</td>\n",
       "      <td>47.0</td>\n",
       "      <td>10.0</td>\n",
       "      <td>0.0</td>\n",
       "      <td>0.0</td>\n",
       "      <td>0.0</td>\n",
       "      <td>1.0</td>\n",
       "      <td>0.0</td>\n",
       "      <td>0.0</td>\n",
       "      <td>1.0</td>\n",
       "    </tr>\n",
       "    <tr>\n",
       "      <th>155</th>\n",
       "      <td>155</td>\n",
       "      <td>dislike</td>\n",
       "      <td>Monoir|Eneli</td>\n",
       "      <td>3 to 1</td>\n",
       "      <td>219500</td>\n",
       "      <td>pop|house|electronics|dance</td>\n",
       "      <td>3 to 1</td>\n",
       "      <td>2020</td>\n",
       "      <td>Warner Music Russia</td>\n",
       "      <td>B Minor</td>\n",
       "      <td>108</td>\n",
       "      <td>F</td>\n",
       "      <td>NaN</td>\n",
       "      <td>58.0</td>\n",
       "      <td>90.0</td>\n",
       "      <td>55.0</td>\n",
       "      <td>1.0</td>\n",
       "      <td>0.0</td>\n",
       "      <td>0.0</td>\n",
       "      <td>0.0</td>\n",
       "      <td>0.0</td>\n",
       "      <td>0.0</td>\n",
       "      <td>0.0</td>\n",
       "    </tr>\n",
       "    <tr>\n",
       "      <th>520</th>\n",
       "      <td>520</td>\n",
       "      <td>dislike</td>\n",
       "      <td>DJ Marky|Stamina MC|XRS|Stamina MC Carol Carol...</td>\n",
       "      <td>LK Feat. Stamina MC (Carol Carolina Bela)</td>\n",
       "      <td>329750</td>\n",
       "      <td>foreignrap|dance|electronics|dnb</td>\n",
       "      <td>In Rotation</td>\n",
       "      <td>2004</td>\n",
       "      <td>Innerground</td>\n",
       "      <td>A♭ Minor</td>\n",
       "      <td>174</td>\n",
       "      <td>M</td>\n",
       "      <td>NaN</td>\n",
       "      <td>93.0</td>\n",
       "      <td>65.0</td>\n",
       "      <td>97.0</td>\n",
       "      <td>1.0</td>\n",
       "      <td>0.0</td>\n",
       "      <td>0.0</td>\n",
       "      <td>0.0</td>\n",
       "      <td>0.0</td>\n",
       "      <td>0.0</td>\n",
       "      <td>1.0</td>\n",
       "    </tr>\n",
       "    <tr>\n",
       "      <th>575</th>\n",
       "      <td>575</td>\n",
       "      <td>dislike</td>\n",
       "      <td>System of A Down</td>\n",
       "      <td>ATWA</td>\n",
       "      <td>176200</td>\n",
       "      <td>numetal|rock|alternative</td>\n",
       "      <td>Toxicity</td>\n",
       "      <td>2001</td>\n",
       "      <td>Sony Music Entertainment. With American</td>\n",
       "      <td>F Minor</td>\n",
       "      <td>87</td>\n",
       "      <td>M</td>\n",
       "      <td>NaN</td>\n",
       "      <td>79.0</td>\n",
       "      <td>38.0</td>\n",
       "      <td>37.0</td>\n",
       "      <td>1.0</td>\n",
       "      <td>0.0</td>\n",
       "      <td>0.0</td>\n",
       "      <td>0.0</td>\n",
       "      <td>0.0</td>\n",
       "      <td>1.0</td>\n",
       "      <td>0.0</td>\n",
       "    </tr>\n",
       "    <tr>\n",
       "      <th>621</th>\n",
       "      <td>621</td>\n",
       "      <td>like</td>\n",
       "      <td>Sergei Prokofiev|Orchestre Symphonique de Mont...</td>\n",
       "      <td>Romeo and Juliet Op. 64, ACT 1: The Knights' D...</td>\n",
       "      <td>237050</td>\n",
       "      <td>classical</td>\n",
       "      <td>Legend of the Orchestra</td>\n",
       "      <td>2009</td>\n",
       "      <td>Warner Classics|Erato</td>\n",
       "      <td>E Minor</td>\n",
       "      <td>95</td>\n",
       "      <td>N</td>\n",
       "      <td>NaN</td>\n",
       "      <td>10.0</td>\n",
       "      <td>19.0</td>\n",
       "      <td>16.0</td>\n",
       "      <td>1.0</td>\n",
       "      <td>0.0</td>\n",
       "      <td>0.0</td>\n",
       "      <td>0.0</td>\n",
       "      <td>0.0</td>\n",
       "      <td>0.0</td>\n",
       "      <td>1.0</td>\n",
       "    </tr>\n",
       "    <tr>\n",
       "      <th>625</th>\n",
       "      <td>625</td>\n",
       "      <td>dislike</td>\n",
       "      <td>Minelli</td>\n",
       "      <td>Rampampam</td>\n",
       "      <td>200210</td>\n",
       "      <td>pop|electronics|dance</td>\n",
       "      <td>Rampampam</td>\n",
       "      <td>2021</td>\n",
       "      <td>Global</td>\n",
       "      <td>E♭ Minor</td>\n",
       "      <td>118</td>\n",
       "      <td>F</td>\n",
       "      <td>NaN</td>\n",
       "      <td>65.0</td>\n",
       "      <td>80.0</td>\n",
       "      <td>44.0</td>\n",
       "      <td>1.0</td>\n",
       "      <td>0.0</td>\n",
       "      <td>0.0</td>\n",
       "      <td>0.0</td>\n",
       "      <td>0.0</td>\n",
       "      <td>0.0</td>\n",
       "      <td>0.0</td>\n",
       "    </tr>\n",
       "    <tr>\n",
       "      <th>661</th>\n",
       "      <td>661</td>\n",
       "      <td>dislike</td>\n",
       "      <td>NaN</td>\n",
       "      <td>La Traviata - Opera in three acts, Act I: Libi...</td>\n",
       "      <td>182000</td>\n",
       "      <td>|classical|vocal</td>\n",
       "      <td>Verdi: La Traviata</td>\n",
       "      <td>2017</td>\n",
       "      <td>EMI Records Ltd. Digital remastering</td>\n",
       "      <td>B♭ Minor</td>\n",
       "      <td>69</td>\n",
       "      <td>N</td>\n",
       "      <td>NaN</td>\n",
       "      <td>NaN</td>\n",
       "      <td>NaN</td>\n",
       "      <td>NaN</td>\n",
       "      <td>0.0</td>\n",
       "      <td>0.0</td>\n",
       "      <td>1.0</td>\n",
       "      <td>0.0</td>\n",
       "      <td>0.0</td>\n",
       "      <td>1.0</td>\n",
       "      <td>0.0</td>\n",
       "    </tr>\n",
       "    <tr>\n",
       "      <th>0</th>\n",
       "      <td>665</td>\n",
       "      <td>No_info</td>\n",
       "      <td>Itzhak Perlman|Никколо Паганини</td>\n",
       "      <td>24 Caprices, Op.1: No. 24 in A Minor</td>\n",
       "      <td>265600</td>\n",
       "      <td>classicalmasterpieces|films|folk|classical</td>\n",
       "      <td>Paganini: 24 Caprices</td>\n",
       "      <td>2000</td>\n",
       "      <td>EMI</td>\n",
       "      <td>A Minor</td>\n",
       "      <td>90</td>\n",
       "      <td>N</td>\n",
       "      <td>NaN</td>\n",
       "      <td>38.0</td>\n",
       "      <td>38.0</td>\n",
       "      <td>91.0</td>\n",
       "      <td>0.0</td>\n",
       "      <td>0.0</td>\n",
       "      <td>1.0</td>\n",
       "      <td>0.0</td>\n",
       "      <td>0.0</td>\n",
       "      <td>1.0</td>\n",
       "      <td>0.0</td>\n",
       "    </tr>\n",
       "    <tr>\n",
       "      <th>18</th>\n",
       "      <td>683</td>\n",
       "      <td>No_info</td>\n",
       "      <td>Used Somebody|Somebody That I Used To Know</td>\n",
       "      <td>Somebody That I Used to Know</td>\n",
       "      <td>245580</td>\n",
       "      <td>pop</td>\n",
       "      <td>Somebody That I Used to Know</td>\n",
       "      <td>2012</td>\n",
       "      <td>Fiesta Records (Andreas Rosmiarek) LC-Nr.:|Oli...</td>\n",
       "      <td>C Major</td>\n",
       "      <td>129</td>\n",
       "      <td>M</td>\n",
       "      <td>NaN</td>\n",
       "      <td>50.0</td>\n",
       "      <td>86.0</td>\n",
       "      <td>72.0</td>\n",
       "      <td>1.0</td>\n",
       "      <td>0.0</td>\n",
       "      <td>0.0</td>\n",
       "      <td>0.0</td>\n",
       "      <td>0.0</td>\n",
       "      <td>0.0</td>\n",
       "      <td>0.0</td>\n",
       "    </tr>\n",
       "    <tr>\n",
       "      <th>86</th>\n",
       "      <td>751</td>\n",
       "      <td>No_info</td>\n",
       "      <td>KALEO</td>\n",
       "      <td>Way Down We Go</td>\n",
       "      <td>213700</td>\n",
       "      <td>indie|rock|alternative</td>\n",
       "      <td>A/B</td>\n",
       "      <td>2016</td>\n",
       "      <td>Elektra</td>\n",
       "      <td>B♭ Minor</td>\n",
       "      <td>163</td>\n",
       "      <td>M</td>\n",
       "      <td>NaN</td>\n",
       "      <td>50.0</td>\n",
       "      <td>49.0</td>\n",
       "      <td>34.0</td>\n",
       "      <td>0.0</td>\n",
       "      <td>0.0</td>\n",
       "      <td>0.0</td>\n",
       "      <td>0.0</td>\n",
       "      <td>0.0</td>\n",
       "      <td>1.0</td>\n",
       "      <td>0.0</td>\n",
       "    </tr>\n",
       "    <tr>\n",
       "      <th>224</th>\n",
       "      <td>889</td>\n",
       "      <td>No_info</td>\n",
       "      <td>HAYASA G</td>\n",
       "      <td>The Banjo Beat</td>\n",
       "      <td>102000</td>\n",
       "      <td>house|foreignrap|dance</td>\n",
       "      <td>The Banjo Beat</td>\n",
       "      <td>2020</td>\n",
       "      <td>Gangster City</td>\n",
       "      <td>D♭ Major</td>\n",
       "      <td>130</td>\n",
       "      <td>N</td>\n",
       "      <td>NaN</td>\n",
       "      <td>71.0</td>\n",
       "      <td>84.0</td>\n",
       "      <td>83.0</td>\n",
       "      <td>1.0</td>\n",
       "      <td>0.0</td>\n",
       "      <td>0.0</td>\n",
       "      <td>0.0</td>\n",
       "      <td>0.0</td>\n",
       "      <td>0.0</td>\n",
       "      <td>0.0</td>\n",
       "    </tr>\n",
       "    <tr>\n",
       "      <th>282</th>\n",
       "      <td>947</td>\n",
       "      <td>No_info</td>\n",
       "      <td>Tove Lo</td>\n",
       "      <td>Disco Tits</td>\n",
       "      <td>223790</td>\n",
       "      <td>pop</td>\n",
       "      <td>BLUE LIPS</td>\n",
       "      <td>2017</td>\n",
       "      <td>Universal Music</td>\n",
       "      <td>G Major</td>\n",
       "      <td>110</td>\n",
       "      <td>F</td>\n",
       "      <td>NaN</td>\n",
       "      <td>73.0</td>\n",
       "      <td>79.0</td>\n",
       "      <td>33.0</td>\n",
       "      <td>1.0</td>\n",
       "      <td>0.0</td>\n",
       "      <td>0.0</td>\n",
       "      <td>0.0</td>\n",
       "      <td>0.0</td>\n",
       "      <td>1.0</td>\n",
       "      <td>0.0</td>\n",
       "    </tr>\n",
       "  </tbody>\n",
       "</table>\n",
       "</div>"
      ],
      "text/plain": [
       "      Id Category                                            Artists  \\\n",
       "30    30  dislike        Sub Focus|Alex Clare|Fred V|Grafix|N Douwma   \n",
       "155  155  dislike                                       Monoir|Eneli   \n",
       "520  520  dislike  DJ Marky|Stamina MC|XRS|Stamina MC Carol Carol...   \n",
       "575  575  dislike                                   System of A Down   \n",
       "621  621     like  Sergei Prokofiev|Orchestre Symphonique de Mont...   \n",
       "625  625  dislike                                            Minelli   \n",
       "661  661  dislike                                                NaN   \n",
       "0    665  No_info                    Itzhak Perlman|Никколо Паганини   \n",
       "18   683  No_info         Used Somebody|Somebody That I Used To Know   \n",
       "86   751  No_info                                              KALEO   \n",
       "224  889  No_info                                           HAYASA G   \n",
       "282  947  No_info                                            Tove Lo   \n",
       "\n",
       "                                                 Track  Duration  \\\n",
       "30                                          Endorphins    275330   \n",
       "155                                             3 to 1    219500   \n",
       "520          LK Feat. Stamina MC (Carol Carolina Bela)    329750   \n",
       "575                                               ATWA    176200   \n",
       "621  Romeo and Juliet Op. 64, ACT 1: The Knights' D...    237050   \n",
       "625                                          Rampampam    200210   \n",
       "661  La Traviata - Opera in three acts, Act I: Libi...    182000   \n",
       "0                 24 Caprices, Op.1: No. 24 in A Minor    265600   \n",
       "18                        Somebody That I Used to Know    245580   \n",
       "86                                      Way Down We Go    213700   \n",
       "224                                     The Banjo Beat    102000   \n",
       "282                                         Disco Tits    223790   \n",
       "\n",
       "                                 Artists_Genres                         Album  \\\n",
       "30               pop|dance|dnb|rock|electronics          UKF Drum & Bass 2013   \n",
       "155                 pop|house|electronics|dance                        3 to 1   \n",
       "520            foreignrap|dance|electronics|dnb                   In Rotation   \n",
       "575                    numetal|rock|alternative                      Toxicity   \n",
       "621                                   classical       Legend of the Orchestra   \n",
       "625                       pop|electronics|dance                     Rampampam   \n",
       "661                            |classical|vocal            Verdi: La Traviata   \n",
       "0    classicalmasterpieces|films|folk|classical         Paganini: 24 Caprices   \n",
       "18                                          pop  Somebody That I Used to Know   \n",
       "86                       indie|rock|alternative                           A/B   \n",
       "224                      house|foreignrap|dance                The Banjo Beat   \n",
       "282                                         pop                     BLUE LIPS   \n",
       "\n",
       "     Release_year                                             Labels  \\\n",
       "30           2013                                                UKF   \n",
       "155          2020                                Warner Music Russia   \n",
       "520          2004                                        Innerground   \n",
       "575          2001            Sony Music Entertainment. With American   \n",
       "621          2009                              Warner Classics|Erato   \n",
       "625          2021                                             Global   \n",
       "661          2017               EMI Records Ltd. Digital remastering   \n",
       "0            2000                                                EMI   \n",
       "18           2012  Fiesta Records (Andreas Rosmiarek) LC-Nr.:|Oli...   \n",
       "86           2016                                            Elektra   \n",
       "224          2020                                      Gangster City   \n",
       "282          2017                                    Universal Music   \n",
       "\n",
       "          Key  BPM Vocal  Country  Energy  Dancebility  Happiness  Remaster  \\\n",
       "30    B Minor  174      M     NaN    86.0         47.0       10.0       0.0   \n",
       "155   B Minor  108      F     NaN    58.0         90.0       55.0       1.0   \n",
       "520  A♭ Minor  174      M     NaN    93.0         65.0       97.0       1.0   \n",
       "575   F Minor   87      M     NaN    79.0         38.0       37.0       1.0   \n",
       "621   E Minor   95      N     NaN    10.0         19.0       16.0       1.0   \n",
       "625  E♭ Minor  118      F     NaN    65.0         80.0       44.0       1.0   \n",
       "661  B♭ Minor   69      N     NaN     NaN          NaN        NaN       0.0   \n",
       "0     A Minor   90      N     NaN    38.0         38.0       91.0       0.0   \n",
       "18    C Major  129      M     NaN    50.0         86.0       72.0       1.0   \n",
       "86   B♭ Minor  163      M     NaN    50.0         49.0       34.0       0.0   \n",
       "224  D♭ Major  130      N     NaN    71.0         84.0       83.0       1.0   \n",
       "282   G Major  110      F     NaN    73.0         79.0       33.0       1.0   \n",
       "\n",
       "     Single Edit  Radio Edit  Soundtrack  Remix  single  compilation  \n",
       "30           0.0         0.0         1.0    0.0     0.0          1.0  \n",
       "155          0.0         0.0         0.0    0.0     0.0          0.0  \n",
       "520          0.0         0.0         0.0    0.0     0.0          1.0  \n",
       "575          0.0         0.0         0.0    0.0     1.0          0.0  \n",
       "621          0.0         0.0         0.0    0.0     0.0          1.0  \n",
       "625          0.0         0.0         0.0    0.0     0.0          0.0  \n",
       "661          0.0         1.0         0.0    0.0     1.0          0.0  \n",
       "0            0.0         1.0         0.0    0.0     1.0          0.0  \n",
       "18           0.0         0.0         0.0    0.0     0.0          0.0  \n",
       "86           0.0         0.0         0.0    0.0     1.0          0.0  \n",
       "224          0.0         0.0         0.0    0.0     0.0          0.0  \n",
       "282          0.0         0.0         0.0    0.0     1.0          0.0  "
      ]
     },
     "execution_count": 48,
     "metadata": {},
     "output_type": "execute_result"
    }
   ],
   "source": [
    "df[df['Country'].isna()]"
   ]
  },
  {
   "cell_type": "code",
   "execution_count": 49,
   "id": "fdd7d07d",
   "metadata": {},
   "outputs": [],
   "source": [
    "df['Country'] = df['Country'].fillna('No_info')"
   ]
  },
  {
   "cell_type": "code",
   "execution_count": 50,
   "id": "2b9e50cd",
   "metadata": {},
   "outputs": [
    {
     "data": {
      "text/plain": [
       "Id                0\n",
       "Category          0\n",
       "Artists           1\n",
       "Track             0\n",
       "Duration          0\n",
       "Artists_Genres    0\n",
       "Album             2\n",
       "Release_year      0\n",
       "Labels            6\n",
       "Key               0\n",
       "BPM               0\n",
       "Vocal             1\n",
       "Country           0\n",
       "Energy            1\n",
       "Dancebility       1\n",
       "Happiness         1\n",
       "Remaster          0\n",
       "Single Edit       0\n",
       "Radio Edit        0\n",
       "Soundtrack        0\n",
       "Remix             0\n",
       "single            0\n",
       "compilation       0\n",
       "dtype: int64"
      ]
     },
     "execution_count": 50,
     "metadata": {},
     "output_type": "execute_result"
    }
   ],
   "source": [
    "df.isna().sum()"
   ]
  },
  {
   "cell_type": "code",
   "execution_count": 51,
   "id": "ddf2c342",
   "metadata": {},
   "outputs": [
    {
     "data": {
      "text/html": [
       "<div>\n",
       "<style scoped>\n",
       "    .dataframe tbody tr th:only-of-type {\n",
       "        vertical-align: middle;\n",
       "    }\n",
       "\n",
       "    .dataframe tbody tr th {\n",
       "        vertical-align: top;\n",
       "    }\n",
       "\n",
       "    .dataframe thead th {\n",
       "        text-align: right;\n",
       "    }\n",
       "</style>\n",
       "<table border=\"1\" class=\"dataframe\">\n",
       "  <thead>\n",
       "    <tr style=\"text-align: right;\">\n",
       "      <th></th>\n",
       "      <th>Id</th>\n",
       "      <th>Category</th>\n",
       "      <th>Artists</th>\n",
       "      <th>Track</th>\n",
       "      <th>Duration</th>\n",
       "      <th>Artists_Genres</th>\n",
       "      <th>Album</th>\n",
       "      <th>Release_year</th>\n",
       "      <th>Labels</th>\n",
       "      <th>Key</th>\n",
       "      <th>BPM</th>\n",
       "      <th>Vocal</th>\n",
       "      <th>Country</th>\n",
       "      <th>Energy</th>\n",
       "      <th>Dancebility</th>\n",
       "      <th>Happiness</th>\n",
       "      <th>Remaster</th>\n",
       "      <th>Single Edit</th>\n",
       "      <th>Radio Edit</th>\n",
       "      <th>Soundtrack</th>\n",
       "      <th>Remix</th>\n",
       "      <th>single</th>\n",
       "      <th>compilation</th>\n",
       "    </tr>\n",
       "  </thead>\n",
       "  <tbody>\n",
       "    <tr>\n",
       "      <th>72</th>\n",
       "      <td>737</td>\n",
       "      <td>No_info</td>\n",
       "      <td>Flux Pavilion</td>\n",
       "      <td>I Can't Stop</td>\n",
       "      <td>305780</td>\n",
       "      <td>electronics|dance|dubstep</td>\n",
       "      <td>Big Beat Dance Hits: Vol 1</td>\n",
       "      <td>2015</td>\n",
       "      <td>Big Beat</td>\n",
       "      <td>C Minor</td>\n",
       "      <td>140</td>\n",
       "      <td>NaN</td>\n",
       "      <td>GB</td>\n",
       "      <td>60.0</td>\n",
       "      <td>52.0</td>\n",
       "      <td>31.0</td>\n",
       "      <td>1.0</td>\n",
       "      <td>0.0</td>\n",
       "      <td>0.0</td>\n",
       "      <td>0.0</td>\n",
       "      <td>0.0</td>\n",
       "      <td>0.0</td>\n",
       "      <td>1.0</td>\n",
       "    </tr>\n",
       "  </tbody>\n",
       "</table>\n",
       "</div>"
      ],
      "text/plain": [
       "     Id Category        Artists         Track  Duration  \\\n",
       "72  737  No_info  Flux Pavilion  I Can't Stop    305780   \n",
       "\n",
       "               Artists_Genres                       Album  Release_year  \\\n",
       "72  electronics|dance|dubstep  Big Beat Dance Hits: Vol 1          2015   \n",
       "\n",
       "      Labels      Key  BPM Vocal  Country  Energy  Dancebility  Happiness  \\\n",
       "72  Big Beat  C Minor  140    NaN      GB    60.0         52.0       31.0   \n",
       "\n",
       "    Remaster  Single Edit  Radio Edit  Soundtrack  Remix  single  compilation  \n",
       "72       1.0          0.0         0.0         0.0    0.0     0.0          1.0  "
      ]
     },
     "execution_count": 51,
     "metadata": {},
     "output_type": "execute_result"
    }
   ],
   "source": [
    "df[df['Vocal '].isna()]"
   ]
  },
  {
   "cell_type": "code",
   "execution_count": 52,
   "id": "400208c6",
   "metadata": {},
   "outputs": [
    {
     "data": {
      "text/plain": [
       "M      706\n",
       "F      171\n",
       "F|M     76\n",
       "N       11\n",
       "Name: Vocal , dtype: int64"
      ]
     },
     "execution_count": 52,
     "metadata": {},
     "output_type": "execute_result"
    }
   ],
   "source": [
    "df['Vocal '].value_counts()"
   ]
  },
  {
   "cell_type": "code",
   "execution_count": 53,
   "id": "b93d51f1",
   "metadata": {},
   "outputs": [],
   "source": [
    "df['Vocal '] = df['Vocal '].fillna('N')"
   ]
  },
  {
   "cell_type": "code",
   "execution_count": 54,
   "id": "479f88b7",
   "metadata": {},
   "outputs": [
    {
     "data": {
      "text/html": [
       "<div>\n",
       "<style scoped>\n",
       "    .dataframe tbody tr th:only-of-type {\n",
       "        vertical-align: middle;\n",
       "    }\n",
       "\n",
       "    .dataframe tbody tr th {\n",
       "        vertical-align: top;\n",
       "    }\n",
       "\n",
       "    .dataframe thead th {\n",
       "        text-align: right;\n",
       "    }\n",
       "</style>\n",
       "<table border=\"1\" class=\"dataframe\">\n",
       "  <thead>\n",
       "    <tr style=\"text-align: right;\">\n",
       "      <th></th>\n",
       "      <th>Id</th>\n",
       "      <th>Category</th>\n",
       "      <th>Artists</th>\n",
       "      <th>Track</th>\n",
       "      <th>Duration</th>\n",
       "      <th>Artists_Genres</th>\n",
       "      <th>Album</th>\n",
       "      <th>Release_year</th>\n",
       "      <th>Labels</th>\n",
       "      <th>Key</th>\n",
       "      <th>BPM</th>\n",
       "      <th>Vocal</th>\n",
       "      <th>Country</th>\n",
       "      <th>Energy</th>\n",
       "      <th>Dancebility</th>\n",
       "      <th>Happiness</th>\n",
       "      <th>Remaster</th>\n",
       "      <th>Single Edit</th>\n",
       "      <th>Radio Edit</th>\n",
       "      <th>Soundtrack</th>\n",
       "      <th>Remix</th>\n",
       "      <th>single</th>\n",
       "      <th>compilation</th>\n",
       "    </tr>\n",
       "  </thead>\n",
       "  <tbody>\n",
       "    <tr>\n",
       "      <th>250</th>\n",
       "      <td>250</td>\n",
       "      <td>dislike</td>\n",
       "      <td>Martin Solveig|Dragonette</td>\n",
       "      <td>Hello</td>\n",
       "      <td>191620</td>\n",
       "      <td>dance|electronics|pop|pop|dance|electronics</td>\n",
       "      <td>NaN</td>\n",
       "      <td>2010</td>\n",
       "      <td>NaN</td>\n",
       "      <td>E♭ Major</td>\n",
       "      <td>128</td>\n",
       "      <td>M</td>\n",
       "      <td>CA|SWE</td>\n",
       "      <td>98.0</td>\n",
       "      <td>67.0</td>\n",
       "      <td>45.0</td>\n",
       "      <td>0.0</td>\n",
       "      <td>1.0</td>\n",
       "      <td>0.0</td>\n",
       "      <td>0.0</td>\n",
       "      <td>0.0</td>\n",
       "      <td>0.0</td>\n",
       "      <td>0.0</td>\n",
       "    </tr>\n",
       "    <tr>\n",
       "      <th>501</th>\n",
       "      <td>501</td>\n",
       "      <td>like</td>\n",
       "      <td>The Notorious B.I.G.</td>\n",
       "      <td>Big Poppa</td>\n",
       "      <td>252920</td>\n",
       "      <td>foreignrap|rnb|dance</td>\n",
       "      <td>NaN</td>\n",
       "      <td>1995</td>\n",
       "      <td>NaN</td>\n",
       "      <td>A Minor</td>\n",
       "      <td>84</td>\n",
       "      <td>M</td>\n",
       "      <td>USA</td>\n",
       "      <td>57.0</td>\n",
       "      <td>78.0</td>\n",
       "      <td>77.0</td>\n",
       "      <td>0.0</td>\n",
       "      <td>1.0</td>\n",
       "      <td>0.0</td>\n",
       "      <td>0.0</td>\n",
       "      <td>0.0</td>\n",
       "      <td>1.0</td>\n",
       "      <td>0.0</td>\n",
       "    </tr>\n",
       "  </tbody>\n",
       "</table>\n",
       "</div>"
      ],
      "text/plain": [
       "      Id Category                    Artists      Track  Duration  \\\n",
       "250  250  dislike  Martin Solveig|Dragonette      Hello    191620   \n",
       "501  501     like       The Notorious B.I.G.  Big Poppa    252920   \n",
       "\n",
       "                                  Artists_Genres Album  Release_year Labels  \\\n",
       "250  dance|electronics|pop|pop|dance|electronics   NaN          2010    NaN   \n",
       "501                         foreignrap|rnb|dance   NaN          1995    NaN   \n",
       "\n",
       "          Key  BPM Vocal  Country  Energy  Dancebility  Happiness  Remaster  \\\n",
       "250  E♭ Major  128      M  CA|SWE    98.0         67.0       45.0       0.0   \n",
       "501   A Minor   84      M     USA    57.0         78.0       77.0       0.0   \n",
       "\n",
       "     Single Edit  Radio Edit  Soundtrack  Remix  single  compilation  \n",
       "250          1.0         0.0         0.0    0.0     0.0          0.0  \n",
       "501          1.0         0.0         0.0    0.0     1.0          0.0  "
      ]
     },
     "execution_count": 54,
     "metadata": {},
     "output_type": "execute_result"
    }
   ],
   "source": [
    "df[df['Album'].isna()]"
   ]
  },
  {
   "cell_type": "code",
   "execution_count": 55,
   "id": "7b5fa60b",
   "metadata": {},
   "outputs": [],
   "source": [
    "df['Album'] = df['Album'].fillna('No_info')\n",
    "df['Labels'] = df['Labels'].fillna('No_info')"
   ]
  },
  {
   "cell_type": "code",
   "execution_count": 56,
   "id": "7ff590f7",
   "metadata": {},
   "outputs": [
    {
     "data": {
      "text/plain": [
       "Id                0\n",
       "Category          0\n",
       "Artists           1\n",
       "Track             0\n",
       "Duration          0\n",
       "Artists_Genres    0\n",
       "Album             0\n",
       "Release_year      0\n",
       "Labels            0\n",
       "Key               0\n",
       "BPM               0\n",
       "Vocal             0\n",
       "Country           0\n",
       "Energy            1\n",
       "Dancebility       1\n",
       "Happiness         1\n",
       "Remaster          0\n",
       "Single Edit       0\n",
       "Radio Edit        0\n",
       "Soundtrack        0\n",
       "Remix             0\n",
       "single            0\n",
       "compilation       0\n",
       "dtype: int64"
      ]
     },
     "execution_count": 56,
     "metadata": {},
     "output_type": "execute_result"
    }
   ],
   "source": [
    "df.isna().sum()"
   ]
  },
  {
   "cell_type": "code",
   "execution_count": 57,
   "id": "a48e1bad",
   "metadata": {
    "scrolled": true
   },
   "outputs": [
    {
     "data": {
      "text/html": [
       "<div>\n",
       "<style scoped>\n",
       "    .dataframe tbody tr th:only-of-type {\n",
       "        vertical-align: middle;\n",
       "    }\n",
       "\n",
       "    .dataframe tbody tr th {\n",
       "        vertical-align: top;\n",
       "    }\n",
       "\n",
       "    .dataframe thead th {\n",
       "        text-align: right;\n",
       "    }\n",
       "</style>\n",
       "<table border=\"1\" class=\"dataframe\">\n",
       "  <thead>\n",
       "    <tr style=\"text-align: right;\">\n",
       "      <th></th>\n",
       "      <th>Id</th>\n",
       "      <th>Category</th>\n",
       "      <th>Artists</th>\n",
       "      <th>Track</th>\n",
       "      <th>Duration</th>\n",
       "      <th>Artists_Genres</th>\n",
       "      <th>Album</th>\n",
       "      <th>Release_year</th>\n",
       "      <th>Labels</th>\n",
       "      <th>Key</th>\n",
       "      <th>BPM</th>\n",
       "      <th>Vocal</th>\n",
       "      <th>Country</th>\n",
       "      <th>Energy</th>\n",
       "      <th>Dancebility</th>\n",
       "      <th>Happiness</th>\n",
       "      <th>Remaster</th>\n",
       "      <th>Single Edit</th>\n",
       "      <th>Radio Edit</th>\n",
       "      <th>Soundtrack</th>\n",
       "      <th>Remix</th>\n",
       "      <th>single</th>\n",
       "      <th>compilation</th>\n",
       "    </tr>\n",
       "  </thead>\n",
       "  <tbody>\n",
       "    <tr>\n",
       "      <th>661</th>\n",
       "      <td>661</td>\n",
       "      <td>dislike</td>\n",
       "      <td>NaN</td>\n",
       "      <td>La Traviata - Opera in three acts, Act I: Libi...</td>\n",
       "      <td>182000</td>\n",
       "      <td>|classical|vocal</td>\n",
       "      <td>Verdi: La Traviata</td>\n",
       "      <td>2017</td>\n",
       "      <td>EMI Records Ltd. Digital remastering</td>\n",
       "      <td>B♭ Minor</td>\n",
       "      <td>69</td>\n",
       "      <td>N</td>\n",
       "      <td>No_info</td>\n",
       "      <td>NaN</td>\n",
       "      <td>NaN</td>\n",
       "      <td>NaN</td>\n",
       "      <td>0.0</td>\n",
       "      <td>0.0</td>\n",
       "      <td>1.0</td>\n",
       "      <td>0.0</td>\n",
       "      <td>0.0</td>\n",
       "      <td>1.0</td>\n",
       "      <td>0.0</td>\n",
       "    </tr>\n",
       "  </tbody>\n",
       "</table>\n",
       "</div>"
      ],
      "text/plain": [
       "      Id Category Artists                                              Track  \\\n",
       "661  661  dislike     NaN  La Traviata - Opera in three acts, Act I: Libi...   \n",
       "\n",
       "     Duration    Artists_Genres               Album  Release_year  \\\n",
       "661    182000  |classical|vocal  Verdi: La Traviata          2017   \n",
       "\n",
       "                                   Labels       Key  BPM Vocal   Country  \\\n",
       "661  EMI Records Ltd. Digital remastering  B♭ Minor   69      N  No_info   \n",
       "\n",
       "     Energy  Dancebility  Happiness  Remaster  Single Edit  Radio Edit  \\\n",
       "661     NaN          NaN        NaN       0.0          0.0         1.0   \n",
       "\n",
       "     Soundtrack  Remix  single  compilation  \n",
       "661         0.0    0.0     1.0          0.0  "
      ]
     },
     "execution_count": 57,
     "metadata": {},
     "output_type": "execute_result"
    }
   ],
   "source": [
    "df[df['Artists'].isna()]"
   ]
  },
  {
   "cell_type": "code",
   "execution_count": 58,
   "id": "9ec4d18a",
   "metadata": {},
   "outputs": [],
   "source": [
    "df.dropna(inplace=True)"
   ]
  },
  {
   "cell_type": "code",
   "execution_count": 59,
   "id": "08db8446",
   "metadata": {},
   "outputs": [],
   "source": [
    "df.drop('Track', axis=1, inplace=True)"
   ]
  },
  {
   "cell_type": "code",
   "execution_count": 60,
   "id": "703fe441",
   "metadata": {},
   "outputs": [],
   "source": [
    "artists = set()\n",
    "alist = []\n",
    "for i in df['Artists']:\n",
    "    for j in i.split('|'):\n",
    "        artists.add(j)\n",
    "        alist.append(j)"
   ]
  },
  {
   "cell_type": "code",
   "execution_count": 61,
   "id": "15c51113",
   "metadata": {},
   "outputs": [
    {
     "data": {
      "text/plain": [
       "532"
      ]
     },
     "execution_count": 61,
     "metadata": {},
     "output_type": "execute_result"
    }
   ],
   "source": [
    "len(artists)"
   ]
  },
  {
   "cell_type": "code",
   "execution_count": 62,
   "id": "68bba946",
   "metadata": {},
   "outputs": [
    {
     "data": {
      "text/plain": [
       "133"
      ]
     },
     "metadata": {},
     "output_type": "display_data"
    },
    {
     "data": {
      "text/plain": [
       "293"
      ]
     },
     "metadata": {},
     "output_type": "display_data"
    }
   ],
   "source": [
    "in_train, in_test = [], []\n",
    "for i in df.loc[df['Category'] != 'No_info', 'Artists']:\n",
    "    in_train.extend(i.split(\"|\"))\n",
    "for i in df.loc[df['Category'] == 'No_info', 'Artists']:\n",
    "    in_test.extend(i.split(\"|\"))\n",
    "    \n",
    "only_test = set(in_test) - set(in_train)\n",
    "only_train = set(in_train) - set(in_test)\n",
    "display(len(only_test))\n",
    "display(len(only_train))"
   ]
  },
  {
   "cell_type": "code",
   "execution_count": 63,
   "id": "9ad20d7e",
   "metadata": {},
   "outputs": [
    {
     "name": "stdout",
     "output_type": "stream",
     "text": [
      "106\n"
     ]
    }
   ],
   "source": [
    "artists = list(artists - only_test - only_train)\n",
    "print(len(artists))"
   ]
  },
  {
   "cell_type": "code",
   "execution_count": 64,
   "id": "900377da",
   "metadata": {},
   "outputs": [
    {
     "name": "stderr",
     "output_type": "stream",
     "text": [
      "C:\\Users\\Анастасия\\AppData\\Local\\Temp\\ipykernel_4028\\3502342003.py:5: PerformanceWarning: DataFrame is highly fragmented.  This is usually the result of calling `frame.insert` many times, which has poor performance.  Consider joining all columns at once using pd.concat(axis=1) instead. To get a de-fragmented frame, use `newframe = frame.copy()`\n",
      "  df[i] = 0\n",
      "C:\\Users\\Анастасия\\AppData\\Local\\Temp\\ipykernel_4028\\3502342003.py:5: PerformanceWarning: DataFrame is highly fragmented.  This is usually the result of calling `frame.insert` many times, which has poor performance.  Consider joining all columns at once using pd.concat(axis=1) instead. To get a de-fragmented frame, use `newframe = frame.copy()`\n",
      "  df[i] = 0\n",
      "C:\\Users\\Анастасия\\AppData\\Local\\Temp\\ipykernel_4028\\3502342003.py:5: PerformanceWarning: DataFrame is highly fragmented.  This is usually the result of calling `frame.insert` many times, which has poor performance.  Consider joining all columns at once using pd.concat(axis=1) instead. To get a de-fragmented frame, use `newframe = frame.copy()`\n",
      "  df[i] = 0\n",
      "C:\\Users\\Анастасия\\AppData\\Local\\Temp\\ipykernel_4028\\3502342003.py:5: PerformanceWarning: DataFrame is highly fragmented.  This is usually the result of calling `frame.insert` many times, which has poor performance.  Consider joining all columns at once using pd.concat(axis=1) instead. To get a de-fragmented frame, use `newframe = frame.copy()`\n",
      "  df[i] = 0\n",
      "C:\\Users\\Анастасия\\AppData\\Local\\Temp\\ipykernel_4028\\3502342003.py:5: PerformanceWarning: DataFrame is highly fragmented.  This is usually the result of calling `frame.insert` many times, which has poor performance.  Consider joining all columns at once using pd.concat(axis=1) instead. To get a de-fragmented frame, use `newframe = frame.copy()`\n",
      "  df[i] = 0\n",
      "C:\\Users\\Анастасия\\AppData\\Local\\Temp\\ipykernel_4028\\3502342003.py:5: PerformanceWarning: DataFrame is highly fragmented.  This is usually the result of calling `frame.insert` many times, which has poor performance.  Consider joining all columns at once using pd.concat(axis=1) instead. To get a de-fragmented frame, use `newframe = frame.copy()`\n",
      "  df[i] = 0\n",
      "C:\\Users\\Анастасия\\AppData\\Local\\Temp\\ipykernel_4028\\3502342003.py:5: PerformanceWarning: DataFrame is highly fragmented.  This is usually the result of calling `frame.insert` many times, which has poor performance.  Consider joining all columns at once using pd.concat(axis=1) instead. To get a de-fragmented frame, use `newframe = frame.copy()`\n",
      "  df[i] = 0\n",
      "C:\\Users\\Анастасия\\AppData\\Local\\Temp\\ipykernel_4028\\3502342003.py:5: PerformanceWarning: DataFrame is highly fragmented.  This is usually the result of calling `frame.insert` many times, which has poor performance.  Consider joining all columns at once using pd.concat(axis=1) instead. To get a de-fragmented frame, use `newframe = frame.copy()`\n",
      "  df[i] = 0\n",
      "C:\\Users\\Анастасия\\AppData\\Local\\Temp\\ipykernel_4028\\3502342003.py:5: PerformanceWarning: DataFrame is highly fragmented.  This is usually the result of calling `frame.insert` many times, which has poor performance.  Consider joining all columns at once using pd.concat(axis=1) instead. To get a de-fragmented frame, use `newframe = frame.copy()`\n",
      "  df[i] = 0\n",
      "C:\\Users\\Анастасия\\AppData\\Local\\Temp\\ipykernel_4028\\3502342003.py:5: PerformanceWarning: DataFrame is highly fragmented.  This is usually the result of calling `frame.insert` many times, which has poor performance.  Consider joining all columns at once using pd.concat(axis=1) instead. To get a de-fragmented frame, use `newframe = frame.copy()`\n",
      "  df[i] = 0\n"
     ]
    }
   ],
   "source": [
    "artists_for_tsne = []\n",
    "df['Other_artists'] = 1\n",
    "for i in artists:\n",
    "    if alist.count(i) > 1:\n",
    "        df[i] = 0\n",
    "        df.loc[(df['Artists'].str.contains(i)), i] = 1\n",
    "        artists_for_tsne.append(i)\n",
    "for i in artists_for_tsne:\n",
    "    df.loc[(df['Artists'].str.contains(i)), 'Other_artists'] = 0"
   ]
  },
  {
   "cell_type": "code",
   "execution_count": 65,
   "id": "ce581bcc",
   "metadata": {},
   "outputs": [
    {
     "data": {
      "text/plain": [
       "0    644\n",
       "1    320\n",
       "Name: Other_artists, dtype: int64"
      ]
     },
     "execution_count": 65,
     "metadata": {},
     "output_type": "execute_result"
    }
   ],
   "source": [
    "df['Other_artists'].value_counts()"
   ]
  },
  {
   "cell_type": "code",
   "execution_count": 66,
   "id": "9cd3cabd",
   "metadata": {},
   "outputs": [
    {
     "data": {
      "text/plain": [
       "106"
      ]
     },
     "execution_count": 66,
     "metadata": {},
     "output_type": "execute_result"
    }
   ],
   "source": [
    "len(artists_for_tsne)"
   ]
  },
  {
   "cell_type": "code",
   "execution_count": 67,
   "id": "dc54819f",
   "metadata": {},
   "outputs": [
    {
     "name": "stderr",
     "output_type": "stream",
     "text": [
      "D:\\Anaconda\\lib\\site-packages\\sklearn\\manifold\\_t_sne.py:982: FutureWarning: The PCA initialization in TSNE will change to have the standard deviation of PC1 equal to 1e-4 in 1.2. This will ensure better convergence.\n",
      "  warnings.warn(\n"
     ]
    }
   ],
   "source": [
    "m = TSNE(learning_rate=learning_rate_for_tsne, init=init_for_tsne)\n",
    "tsne_features = m.fit_transform(df.loc[:, artists_for_tsne])\n"
   ]
  },
  {
   "cell_type": "code",
   "execution_count": 68,
   "id": "cf0ac6b8",
   "metadata": {},
   "outputs": [],
   "source": [
    "df['Artists_tsne_x'] = tsne_features[:, 0]\n",
    "df['Artists_tsne_y'] = tsne_features[:, 1]"
   ]
  },
  {
   "cell_type": "code",
   "execution_count": 70,
   "id": "d774d721",
   "metadata": {},
   "outputs": [
    {
     "data": {
      "text/plain": [
       "<function matplotlib.pyplot.show(close=None, block=None)>"
      ]
     },
     "execution_count": 70,
     "metadata": {},
     "output_type": "execute_result"
    },
    {
     "data": {
      "image/png": "[encoded data removed]",
      "text/plain": [
       "<Figure size 432x288 with 1 Axes>"
      ]
     },
     "metadata": {
      "needs_background": "light"
     },
     "output_type": "display_data"
    }
   ],
   "source": [
    "sns.scatterplot(x='Artists_tsne_x', y='Artists_tsne_y', hue='Category', data=df)\n",
    "plt.show"
   ]
  },
  {
   "cell_type": "code",
   "execution_count": 71,
   "id": "b71b3238",
   "metadata": {},
   "outputs": [],
   "source": [
    "df.drop(artists_for_tsne, axis=1, inplace=True)\n",
    "df.drop('Artists', axis=1, inplace=True)"
   ]
  },
  {
   "cell_type": "code",
   "execution_count": 72,
   "id": "de4239b5",
   "metadata": {},
   "outputs": [
    {
     "name": "stderr",
     "output_type": "stream",
     "text": [
      "D:\\Anaconda\\lib\\site-packages\\sklearn\\manifold\\_t_sne.py:982: FutureWarning: The PCA initialization in TSNE will change to have the standard deviation of PC1 equal to 1e-4 in 1.2. This will ensure better convergence.\n",
      "  warnings.warn(\n"
     ]
    }
   ],
   "source": [
    "#same tsne for genres\n",
    "genres = set()\n",
    "glist = []\n",
    "for i in df['Artists_Genres']:\n",
    "    for j in i.split('|'):\n",
    "        genres.add(j)\n",
    "        glist.append(j)\n",
    "in_train, in_test = [], []\n",
    "for i in df.loc[df['Category'] != 'No_info', 'Artists_Genres']:\n",
    "    in_train.extend(i.split(\"|\"))\n",
    "for i in df.loc[df['Category'] == 'No_info', 'Artists_Genres']:\n",
    "    in_test.extend(i.split(\"|\"))\n",
    "    \n",
    "only_test = set(in_test) - set(in_train)\n",
    "only_train = set(in_train) - set(in_test)\n",
    "genres = list(genres - only_test - only_train)\n",
    "genres_for_tsne = []\n",
    "for i in genres:\n",
    "    if glist.count(i) > 1:\n",
    "        df[i] = 0\n",
    "        df.loc[(df['Artists_Genres'].str.contains(i)), i] = 1\n",
    "        genres_for_tsne.append(i)\n",
    "m = TSNE(learning_rate=learning_rate_for_tsne, init=init_for_tsne)\n",
    "tsne_features_2 = m.fit_transform(df.loc[:, genres_for_tsne])\n",
    "df['Genres_tsne_x'] = tsne_features_2[:, 0]\n",
    "df['Genres_tsne_y'] = tsne_features_2[:, 1]\n",
    "df.drop(genres_for_tsne, axis=1, inplace=True)\n",
    "df.drop('Artists_Genres', axis=1, inplace=True)"
   ]
  },
  {
   "cell_type": "code",
   "execution_count": 80,
   "id": "7382a943",
   "metadata": {},
   "outputs": [
    {
     "data": {
      "text/plain": [
       "<function matplotlib.pyplot.show(close=None, block=None)>"
      ]
     },
     "execution_count": 80,
     "metadata": {},
     "output_type": "execute_result"
    },
    {
     "data": {
      "image/png": "[encoded data removed]",
      "text/plain": [
       "<Figure size 432x288 with 1 Axes>"
      ]
     },
     "metadata": {
      "needs_background": "light"
     },
     "output_type": "display_data"
    }
   ],
   "source": [
    "sns.scatterplot(x='Genres_tsne_x', y='Genres_tsne_y', hue='Category', data=df)\n",
    "plt.show"
   ]
  },
  {
   "cell_type": "code",
   "execution_count": 81,
   "id": "e77cf792",
   "metadata": {
    "scrolled": true
   },
   "outputs": [
    {
     "name": "stderr",
     "output_type": "stream",
     "text": [
      "C:\\Users\\Анастасия\\AppData\\Local\\Temp\\ipykernel_4028\\2505371431.py:21: UserWarning: This pattern is interpreted as a regular expression, and has match groups. To actually get the groups, use str.extract.\n",
      "  df.loc[(df['Album'].str.contains(i)), i] = 1\n",
      "D:\\Anaconda\\lib\\site-packages\\sklearn\\manifold\\_t_sne.py:982: FutureWarning: The PCA initialization in TSNE will change to have the standard deviation of PC1 equal to 1e-4 in 1.2. This will ensure better convergence.\n",
      "  warnings.warn(\n"
     ]
    }
   ],
   "source": [
    "#same tsne for albums\n",
    "albums = set()\n",
    "alblist = []\n",
    "for i in df['Album']:\n",
    "    for j in i.split('|'):\n",
    "        albums.add(j)\n",
    "        alblist.append(j)\n",
    "in_train, in_test = [], []\n",
    "for i in df.loc[df['Category'] != 'No_info', 'Album']:\n",
    "    in_train.extend(i.split(\"|\"))\n",
    "for i in df.loc[df['Category'] == 'No_info', 'Album']:\n",
    "    in_test.extend(i.split(\"|\"))\n",
    "    \n",
    "only_test = set(in_test) - set(in_train)\n",
    "only_train = set(in_train) - set(in_test)\n",
    "albums = list(albums - only_test - only_train)\n",
    "albums_for_tsne = []\n",
    "for i in albums:\n",
    "    if alblist.count(i) > 1:\n",
    "        df[i] = 0\n",
    "        df.loc[(df['Album'].str.contains(i)), i] = 1\n",
    "        albums_for_tsne.append(i)\n",
    "m = TSNE(learning_rate=learning_rate_for_tsne, init=init_for_tsne)\n",
    "tsne_features_3 = m.fit_transform(df.loc[:, albums_for_tsne])\n",
    "df['Albums_tsne_x'] = tsne_features_3[:, 0]\n",
    "df['Albums_tsne_y'] = tsne_features_3[:, 1]\n",
    "df.drop(albums_for_tsne, axis=1, inplace=True)\n",
    "df.drop('Album', axis=1, inplace=True)"
   ]
  },
  {
   "cell_type": "code",
   "execution_count": 82,
   "id": "ebd79023",
   "metadata": {},
   "outputs": [
    {
     "data": {
      "text/plain": [
       "<function matplotlib.pyplot.show(close=None, block=None)>"
      ]
     },
     "execution_count": 82,
     "metadata": {},
     "output_type": "execute_result"
    },
    {
     "data": {
      "image/png": "[encoded data removed]",
      "text/plain": [
       "<Figure size 432x288 with 1 Axes>"
      ]
     },
     "metadata": {
      "needs_background": "light"
     },
     "output_type": "display_data"
    }
   ],
   "source": [
    "sns.scatterplot(x='Albums_tsne_x', y='Albums_tsne_y', hue='Category', data=df)\n",
    "plt.show"
   ]
  },
  {
   "cell_type": "code",
   "execution_count": 83,
   "id": "a3466977",
   "metadata": {},
   "outputs": [
    {
     "data": {
      "text/plain": [
       "<AxesSubplot:xlabel='Id', ylabel='Release_year'>"
      ]
     },
     "execution_count": 83,
     "metadata": {},
     "output_type": "execute_result"
    },
    {
     "data": {
      "image/png": "[encoded data removed]",
      "text/plain": [
       "<Figure size 1440x720 with 1 Axes>"
      ]
     },
     "metadata": {
      "needs_background": "light"
     },
     "output_type": "display_data"
    }
   ],
   "source": [
    "df[df['Release_year']<2000][['Id','Release_year']].plot(kind='scatter', x='Id', y='Release_year',figsize=(20,10))"
   ]
  },
  {
   "cell_type": "code",
   "execution_count": 84,
   "id": "af26df39",
   "metadata": {},
   "outputs": [],
   "source": [
    "df.loc[:,\"Release_decade\"] = (df.loc[:,\"Release_year\"]//10 * 10)\n",
    "df.loc[df.loc[:,\"Release_decade\"]<1990,\"Release_decade\"] = 1980"
   ]
  },
  {
   "cell_type": "code",
   "execution_count": 85,
   "id": "b7888f37",
   "metadata": {
    "scrolled": true
   },
   "outputs": [
    {
     "name": "stderr",
     "output_type": "stream",
     "text": [
      "C:\\Users\\Анастасия\\AppData\\Local\\Temp\\ipykernel_4028\\1706197123.py:21: UserWarning: This pattern is interpreted as a regular expression, and has match groups. To actually get the groups, use str.extract.\n",
      "  df.loc[(df['Labels'].str.contains(i)), i] = 1\n",
      "C:\\Users\\Анастасия\\AppData\\Local\\Temp\\ipykernel_4028\\1706197123.py:20: PerformanceWarning: DataFrame is highly fragmented.  This is usually the result of calling `frame.insert` many times, which has poor performance.  Consider joining all columns at once using pd.concat(axis=1) instead. To get a de-fragmented frame, use `newframe = frame.copy()`\n",
      "  df[i] = 0\n",
      "C:\\Users\\Анастасия\\AppData\\Local\\Temp\\ipykernel_4028\\1706197123.py:21: UserWarning: This pattern is interpreted as a regular expression, and has match groups. To actually get the groups, use str.extract.\n",
      "  df.loc[(df['Labels'].str.contains(i)), i] = 1\n",
      "C:\\Users\\Анастасия\\AppData\\Local\\Temp\\ipykernel_4028\\1706197123.py:20: PerformanceWarning: DataFrame is highly fragmented.  This is usually the result of calling `frame.insert` many times, which has poor performance.  Consider joining all columns at once using pd.concat(axis=1) instead. To get a de-fragmented frame, use `newframe = frame.copy()`\n",
      "  df[i] = 0\n",
      "C:\\Users\\Анастасия\\AppData\\Local\\Temp\\ipykernel_4028\\1706197123.py:20: PerformanceWarning: DataFrame is highly fragmented.  This is usually the result of calling `frame.insert` many times, which has poor performance.  Consider joining all columns at once using pd.concat(axis=1) instead. To get a de-fragmented frame, use `newframe = frame.copy()`\n",
      "  df[i] = 0\n",
      "C:\\Users\\Анастасия\\AppData\\Local\\Temp\\ipykernel_4028\\1706197123.py:20: PerformanceWarning: DataFrame is highly fragmented.  This is usually the result of calling `frame.insert` many times, which has poor performance.  Consider joining all columns at once using pd.concat(axis=1) instead. To get a de-fragmented frame, use `newframe = frame.copy()`\n",
      "  df[i] = 0\n",
      "C:\\Users\\Анастасия\\AppData\\Local\\Temp\\ipykernel_4028\\1706197123.py:20: PerformanceWarning: DataFrame is highly fragmented.  This is usually the result of calling `frame.insert` many times, which has poor performance.  Consider joining all columns at once using pd.concat(axis=1) instead. To get a de-fragmented frame, use `newframe = frame.copy()`\n",
      "  df[i] = 0\n",
      "C:\\Users\\Анастасия\\AppData\\Local\\Temp\\ipykernel_4028\\1706197123.py:20: PerformanceWarning: DataFrame is highly fragmented.  This is usually the result of calling `frame.insert` many times, which has poor performance.  Consider joining all columns at once using pd.concat(axis=1) instead. To get a de-fragmented frame, use `newframe = frame.copy()`\n",
      "  df[i] = 0\n",
      "C:\\Users\\Анастасия\\AppData\\Local\\Temp\\ipykernel_4028\\1706197123.py:20: PerformanceWarning: DataFrame is highly fragmented.  This is usually the result of calling `frame.insert` many times, which has poor performance.  Consider joining all columns at once using pd.concat(axis=1) instead. To get a de-fragmented frame, use `newframe = frame.copy()`\n",
      "  df[i] = 0\n",
      "D:\\Anaconda\\lib\\site-packages\\sklearn\\manifold\\_t_sne.py:982: FutureWarning: The PCA initialization in TSNE will change to have the standard deviation of PC1 equal to 1e-4 in 1.2. This will ensure better convergence.\n",
      "  warnings.warn(\n"
     ]
    }
   ],
   "source": [
    "#same tsne for labels\n",
    "labels = set()\n",
    "lablist = []\n",
    "for i in df['Labels']:\n",
    "    for j in i.split('|'):\n",
    "        labels.add(j)\n",
    "        lablist.append(j)\n",
    "in_train, in_test = [], []\n",
    "for i in df.loc[df['Category'] != 'No_info', 'Labels']:\n",
    "    in_train.extend(i.split(\"|\"))\n",
    "for i in df.loc[df['Category'] == 'No_info', 'Labels']:\n",
    "    in_test.extend(i.split(\"|\"))\n",
    "    \n",
    "only_test = set(in_test) - set(in_train)\n",
    "only_train = set(in_train) - set(in_test)\n",
    "labels = list(labels - only_test - only_train)\n",
    "labels_for_tsne = []\n",
    "for i in labels:\n",
    "    if lablist.count(i) > 1:\n",
    "        df[i] = 0\n",
    "        df.loc[(df['Labels'].str.contains(i)), i] = 1\n",
    "        labels_for_tsne.append(i)\n",
    "m = TSNE(learning_rate=learning_rate_for_tsne, init=init_for_tsne)\n",
    "tsne_features_4 = m.fit_transform(df.loc[:, labels_for_tsne])\n",
    "df['Labels_tsne_x'] = tsne_features_4[:, 0]\n",
    "df['Labels_tsne_y'] = tsne_features_4[:, 1]\n",
    "df.drop(labels_for_tsne, axis=1, inplace=True)\n",
    "df.drop('Labels', axis=1, inplace=True)"
   ]
  },
  {
   "cell_type": "code",
   "execution_count": 86,
   "id": "8828ec5b",
   "metadata": {},
   "outputs": [
    {
     "data": {
      "text/plain": [
       "<function matplotlib.pyplot.show(close=None, block=None)>"
      ]
     },
     "execution_count": 86,
     "metadata": {},
     "output_type": "execute_result"
    },
    {
     "data": {
      "image/png": "[encoded data removed]",
      "text/plain": [
       "<Figure size 432x288 with 1 Axes>"
      ]
     },
     "metadata": {
      "needs_background": "light"
     },
     "output_type": "display_data"
    }
   ],
   "source": [
    "sns.scatterplot(x='Labels_tsne_x', y='Labels_tsne_y', hue='Category', data=df)\n",
    "plt.show"
   ]
  },
  {
   "cell_type": "code",
   "execution_count": 38,
   "id": "6633821e",
   "metadata": {},
   "outputs": [
    {
     "name": "stderr",
     "output_type": "stream",
     "text": [
      "D:\\Anaconda\\lib\\site-packages\\seaborn\\distributions.py:2619: FutureWarning: `distplot` is a deprecated function and will be removed in a future version. Please adapt your code to use either `displot` (a figure-level function with similar flexibility) or `histplot` (an axes-level function for histograms).\n",
      "  warnings.warn(msg, FutureWarning)\n"
     ]
    },
    {
     "data": {
      "text/plain": [
       "<function matplotlib.pyplot.show(close=None, block=None)>"
      ]
     },
     "execution_count": 38,
     "metadata": {},
     "output_type": "execute_result"
    },
    {
     "data": {
      "image/png": "[encoded data removed]",
      "text/plain": [
       "<Figure size 432x288 with 1 Axes>"
      ]
     },
     "metadata": {
      "needs_background": "light"
     },
     "output_type": "display_data"
    }
   ],
   "source": [
    "liked = list(df[df['Category'] == 'like']['Duration'])\n",
    "disliked = list(df[df['Category'] == 'dislike']['Duration'])\n",
    "sns.distplot(liked, color='g', kde=False)\n",
    "sns.distplot(disliked, color='r', kde=False)\n",
    "plt.legend(['Like', 'Dislike'])\n",
    "plt.show"
   ]
  },
  {
   "cell_type": "code",
   "execution_count": 39,
   "id": "9a9e9e3c",
   "metadata": {},
   "outputs": [
    {
     "data": {
      "text/plain": [
       "<function matplotlib.pyplot.show(close=None, block=None)>"
      ]
     },
     "execution_count": 39,
     "metadata": {},
     "output_type": "execute_result"
    },
    {
     "data": {
      "image/png": "[encoded data removed]",
      "text/plain": [
       "<Figure size 432x288 with 1 Axes>"
      ]
     },
     "metadata": {
      "needs_background": "light"
     },
     "output_type": "display_data"
    }
   ],
   "source": [
    "liked = list(df[df['Category'] == 'like']['Release_decade'])\n",
    "disliked = list(df[df['Category'] == 'dislike']['Release_decade'])\n",
    "sns.histplot(liked, color='g', kde=False)\n",
    "sns.histplot(disliked, color='r', kde=False)\n",
    "plt.legend(['Like', 'Dislike'])\n",
    "plt.show"
   ]
  },
  {
   "cell_type": "code",
   "execution_count": 40,
   "id": "b1fade7e",
   "metadata": {},
   "outputs": [],
   "source": [
    "countries = set()\n",
    "clist = []\n",
    "for i in df['Country']:\n",
    "    for j in i.split('|'):\n",
    "        countries.add(j)\n",
    "        clist.append(j)\n",
    "in_train, in_test = [], []\n",
    "for i in df.loc[df['Category'] != 'No_info', 'Country']:\n",
    "    in_train.extend(i.split(\"|\"))\n",
    "for i in df.loc[df['Category'] == 'No_info', 'Country']:\n",
    "    in_test.extend(i.split(\"|\"))\n",
    "    \n",
    "only_test = set(in_test) - set(in_train)\n",
    "only_train = set(in_train) - set(in_test)\n",
    "countries = list(countries - only_test - only_train)\n",
    "for i in countries:\n",
    "    if clist.count(i) > 1:\n",
    "        df[i] = 0\n",
    "        df.loc[(df['Country'].str.contains(i)), i] = 1\n",
    "\n",
    "df.drop('Country', axis=1, inplace=True)"
   ]
  },
  {
   "cell_type": "code",
   "execution_count": 41,
   "id": "040b93c4",
   "metadata": {},
   "outputs": [
    {
     "data": {
      "text/html": [
       "<div>\n",
       "<style scoped>\n",
       "    .dataframe tbody tr th:only-of-type {\n",
       "        vertical-align: middle;\n",
       "    }\n",
       "\n",
       "    .dataframe tbody tr th {\n",
       "        vertical-align: top;\n",
       "    }\n",
       "\n",
       "    .dataframe thead th {\n",
       "        text-align: right;\n",
       "    }\n",
       "</style>\n",
       "<table border=\"1\" class=\"dataframe\">\n",
       "  <thead>\n",
       "    <tr style=\"text-align: right;\">\n",
       "      <th></th>\n",
       "      <th>Id</th>\n",
       "      <th>Category</th>\n",
       "      <th>Duration</th>\n",
       "      <th>Release_year</th>\n",
       "      <th>Key</th>\n",
       "      <th>BPM</th>\n",
       "      <th>Vocal</th>\n",
       "      <th>Energy</th>\n",
       "      <th>Dancebility</th>\n",
       "      <th>Happiness</th>\n",
       "      <th>Radio Edit</th>\n",
       "      <th>Remaster</th>\n",
       "      <th>Remix</th>\n",
       "      <th>Single Edit</th>\n",
       "      <th>Soundtrack</th>\n",
       "      <th>single</th>\n",
       "      <th>compilation</th>\n",
       "      <th>Other_artists</th>\n",
       "      <th>Artists_tsne_x</th>\n",
       "      <th>Artists_tsne_y</th>\n",
       "      <th>Genres_tsne_x</th>\n",
       "      <th>Genres_tsne_y</th>\n",
       "      <th>Albums_tsne_x</th>\n",
       "      <th>Albums_tsne_y</th>\n",
       "      <th>Release_decade</th>\n",
       "      <th>Labels_tsne_x</th>\n",
       "      <th>Labels_tsne_y</th>\n",
       "      <th>KZ</th>\n",
       "      <th>DK</th>\n",
       "      <th>COL</th>\n",
       "      <th>No_info</th>\n",
       "      <th>USA</th>\n",
       "      <th>UA</th>\n",
       "      <th>GB</th>\n",
       "      <th>CA</th>\n",
       "      <th>AU</th>\n",
       "      <th>RUS</th>\n",
       "      <th>BAR</th>\n",
       "      <th>FR</th>\n",
       "      <th>KR</th>\n",
       "      <th>SWE</th>\n",
       "      <th>JM</th>\n",
       "    </tr>\n",
       "  </thead>\n",
       "  <tbody>\n",
       "    <tr>\n",
       "      <th>0</th>\n",
       "      <td>0</td>\n",
       "      <td>dislike</td>\n",
       "      <td>253660</td>\n",
       "      <td>2014</td>\n",
       "      <td>F# Major</td>\n",
       "      <td>93</td>\n",
       "      <td>M</td>\n",
       "      <td>99.0</td>\n",
       "      <td>42.0</td>\n",
       "      <td>30.0</td>\n",
       "      <td>1.0</td>\n",
       "      <td>0.0</td>\n",
       "      <td>0.0</td>\n",
       "      <td>0.0</td>\n",
       "      <td>0.0</td>\n",
       "      <td>1.0</td>\n",
       "      <td>0.0</td>\n",
       "      <td>1</td>\n",
       "      <td>162.260635</td>\n",
       "      <td>9.238750</td>\n",
       "      <td>-11.745326</td>\n",
       "      <td>3.141928</td>\n",
       "      <td>-194.640579</td>\n",
       "      <td>-94.969101</td>\n",
       "      <td>2010</td>\n",
       "      <td>13.748683</td>\n",
       "      <td>112.125389</td>\n",
       "      <td>0</td>\n",
       "      <td>0</td>\n",
       "      <td>0</td>\n",
       "      <td>0</td>\n",
       "      <td>0</td>\n",
       "      <td>0</td>\n",
       "      <td>0</td>\n",
       "      <td>0</td>\n",
       "      <td>0</td>\n",
       "      <td>0</td>\n",
       "      <td>0</td>\n",
       "      <td>0</td>\n",
       "      <td>0</td>\n",
       "      <td>1</td>\n",
       "      <td>0</td>\n",
       "    </tr>\n",
       "    <tr>\n",
       "      <th>1</th>\n",
       "      <td>1</td>\n",
       "      <td>like</td>\n",
       "      <td>284150</td>\n",
       "      <td>2019</td>\n",
       "      <td>E Major</td>\n",
       "      <td>99</td>\n",
       "      <td>F</td>\n",
       "      <td>28.0</td>\n",
       "      <td>43.0</td>\n",
       "      <td>4.0</td>\n",
       "      <td>0.0</td>\n",
       "      <td>0.0</td>\n",
       "      <td>0.0</td>\n",
       "      <td>0.0</td>\n",
       "      <td>1.0</td>\n",
       "      <td>1.0</td>\n",
       "      <td>0.0</td>\n",
       "      <td>1</td>\n",
       "      <td>-48.781334</td>\n",
       "      <td>-89.775490</td>\n",
       "      <td>-1.363448</td>\n",
       "      <td>-9.852091</td>\n",
       "      <td>121.751213</td>\n",
       "      <td>-192.292145</td>\n",
       "      <td>2010</td>\n",
       "      <td>-200.836182</td>\n",
       "      <td>387.058960</td>\n",
       "      <td>0</td>\n",
       "      <td>0</td>\n",
       "      <td>0</td>\n",
       "      <td>0</td>\n",
       "      <td>0</td>\n",
       "      <td>0</td>\n",
       "      <td>0</td>\n",
       "      <td>1</td>\n",
       "      <td>0</td>\n",
       "      <td>0</td>\n",
       "      <td>0</td>\n",
       "      <td>0</td>\n",
       "      <td>0</td>\n",
       "      <td>0</td>\n",
       "      <td>0</td>\n",
       "    </tr>\n",
       "    <tr>\n",
       "      <th>2</th>\n",
       "      <td>2</td>\n",
       "      <td>like</td>\n",
       "      <td>286480</td>\n",
       "      <td>2012</td>\n",
       "      <td>C Minor</td>\n",
       "      <td>76</td>\n",
       "      <td>F</td>\n",
       "      <td>55.0</td>\n",
       "      <td>35.0</td>\n",
       "      <td>8.0</td>\n",
       "      <td>0.0</td>\n",
       "      <td>0.0</td>\n",
       "      <td>0.0</td>\n",
       "      <td>0.0</td>\n",
       "      <td>1.0</td>\n",
       "      <td>0.0</td>\n",
       "      <td>1.0</td>\n",
       "      <td>0</td>\n",
       "      <td>17.478596</td>\n",
       "      <td>-189.959702</td>\n",
       "      <td>-5.177856</td>\n",
       "      <td>-11.664622</td>\n",
       "      <td>63.640911</td>\n",
       "      <td>-208.237701</td>\n",
       "      <td>2010</td>\n",
       "      <td>-186.356812</td>\n",
       "      <td>86.714607</td>\n",
       "      <td>0</td>\n",
       "      <td>0</td>\n",
       "      <td>0</td>\n",
       "      <td>0</td>\n",
       "      <td>0</td>\n",
       "      <td>0</td>\n",
       "      <td>1</td>\n",
       "      <td>0</td>\n",
       "      <td>0</td>\n",
       "      <td>0</td>\n",
       "      <td>0</td>\n",
       "      <td>0</td>\n",
       "      <td>0</td>\n",
       "      <td>0</td>\n",
       "      <td>0</td>\n",
       "    </tr>\n",
       "    <tr>\n",
       "      <th>3</th>\n",
       "      <td>3</td>\n",
       "      <td>like</td>\n",
       "      <td>268440</td>\n",
       "      <td>2001</td>\n",
       "      <td>E Major</td>\n",
       "      <td>128</td>\n",
       "      <td>M</td>\n",
       "      <td>85.0</td>\n",
       "      <td>77.0</td>\n",
       "      <td>87.0</td>\n",
       "      <td>0.0</td>\n",
       "      <td>0.0</td>\n",
       "      <td>0.0</td>\n",
       "      <td>0.0</td>\n",
       "      <td>1.0</td>\n",
       "      <td>1.0</td>\n",
       "      <td>0.0</td>\n",
       "      <td>1</td>\n",
       "      <td>25.275446</td>\n",
       "      <td>62.750996</td>\n",
       "      <td>3.427704</td>\n",
       "      <td>84.675621</td>\n",
       "      <td>-86.844742</td>\n",
       "      <td>-208.727554</td>\n",
       "      <td>2000</td>\n",
       "      <td>480.931000</td>\n",
       "      <td>-37.533569</td>\n",
       "      <td>0</td>\n",
       "      <td>0</td>\n",
       "      <td>0</td>\n",
       "      <td>0</td>\n",
       "      <td>1</td>\n",
       "      <td>0</td>\n",
       "      <td>0</td>\n",
       "      <td>0</td>\n",
       "      <td>0</td>\n",
       "      <td>0</td>\n",
       "      <td>0</td>\n",
       "      <td>0</td>\n",
       "      <td>0</td>\n",
       "      <td>0</td>\n",
       "      <td>0</td>\n",
       "    </tr>\n",
       "    <tr>\n",
       "      <th>4</th>\n",
       "      <td>4</td>\n",
       "      <td>dislike</td>\n",
       "      <td>311420</td>\n",
       "      <td>2007</td>\n",
       "      <td>B♭ Minor</td>\n",
       "      <td>104</td>\n",
       "      <td>M</td>\n",
       "      <td>72.0</td>\n",
       "      <td>62.0</td>\n",
       "      <td>49.0</td>\n",
       "      <td>1.0</td>\n",
       "      <td>0.0</td>\n",
       "      <td>0.0</td>\n",
       "      <td>0.0</td>\n",
       "      <td>0.0</td>\n",
       "      <td>1.0</td>\n",
       "      <td>0.0</td>\n",
       "      <td>0</td>\n",
       "      <td>-208.548386</td>\n",
       "      <td>129.799515</td>\n",
       "      <td>31.657103</td>\n",
       "      <td>2.938137</td>\n",
       "      <td>13.957136</td>\n",
       "      <td>23.960255</td>\n",
       "      <td>2000</td>\n",
       "      <td>57.230453</td>\n",
       "      <td>-25.128155</td>\n",
       "      <td>0</td>\n",
       "      <td>0</td>\n",
       "      <td>0</td>\n",
       "      <td>0</td>\n",
       "      <td>1</td>\n",
       "      <td>0</td>\n",
       "      <td>0</td>\n",
       "      <td>0</td>\n",
       "      <td>0</td>\n",
       "      <td>0</td>\n",
       "      <td>0</td>\n",
       "      <td>0</td>\n",
       "      <td>0</td>\n",
       "      <td>0</td>\n",
       "      <td>0</td>\n",
       "    </tr>\n",
       "  </tbody>\n",
       "</table>\n",
       "</div>"
      ],
      "text/plain": [
       "   Id Category  Duration  Release_year       Key  BPM Vocal   Energy  \\\n",
       "0   0  dislike    253660          2014  F# Major   93      M    99.0   \n",
       "1   1     like    284150          2019   E Major   99      F    28.0   \n",
       "2   2     like    286480          2012   C Minor   76      F    55.0   \n",
       "3   3     like    268440          2001   E Major  128      M    85.0   \n",
       "4   4  dislike    311420          2007  B♭ Minor  104      M    72.0   \n",
       "\n",
       "   Dancebility  Happiness  Radio Edit  Remaster  Remix  Single Edit  \\\n",
       "0         42.0       30.0         1.0       0.0    0.0          0.0   \n",
       "1         43.0        4.0         0.0       0.0    0.0          0.0   \n",
       "2         35.0        8.0         0.0       0.0    0.0          0.0   \n",
       "3         77.0       87.0         0.0       0.0    0.0          0.0   \n",
       "4         62.0       49.0         1.0       0.0    0.0          0.0   \n",
       "\n",
       "   Soundtrack  single  compilation  Other_artists  Artists_tsne_x  \\\n",
       "0         0.0     1.0          0.0              1      162.260635   \n",
       "1         1.0     1.0          0.0              1      -48.781334   \n",
       "2         1.0     0.0          1.0              0       17.478596   \n",
       "3         1.0     1.0          0.0              1       25.275446   \n",
       "4         0.0     1.0          0.0              0     -208.548386   \n",
       "\n",
       "   Artists_tsne_y  Genres_tsne_x  Genres_tsne_y  Albums_tsne_x  Albums_tsne_y  \\\n",
       "0        9.238750     -11.745326       3.141928    -194.640579     -94.969101   \n",
       "1      -89.775490      -1.363448      -9.852091     121.751213    -192.292145   \n",
       "2     -189.959702      -5.177856     -11.664622      63.640911    -208.237701   \n",
       "3       62.750996       3.427704      84.675621     -86.844742    -208.727554   \n",
       "4      129.799515      31.657103       2.938137      13.957136      23.960255   \n",
       "\n",
       "   Release_decade  Labels_tsne_x  Labels_tsne_y  KZ  DK  COL  No_info  USA  \\\n",
       "0            2010      13.748683     112.125389   0   0    0        0    0   \n",
       "1            2010    -200.836182     387.058960   0   0    0        0    0   \n",
       "2            2010    -186.356812      86.714607   0   0    0        0    0   \n",
       "3            2000     480.931000     -37.533569   0   0    0        0    1   \n",
       "4            2000      57.230453     -25.128155   0   0    0        0    1   \n",
       "\n",
       "   UA  GB  CA  AU  RUS  BAR  FR  KR  SWE  JM  \n",
       "0   0   0   0   0    0    0   0   0    1   0  \n",
       "1   0   0   1   0    0    0   0   0    0   0  \n",
       "2   0   1   0   0    0    0   0   0    0   0  \n",
       "3   0   0   0   0    0    0   0   0    0   0  \n",
       "4   0   0   0   0    0    0   0   0    0   0  "
      ]
     },
     "execution_count": 41,
     "metadata": {},
     "output_type": "execute_result"
    }
   ],
   "source": [
    "df.head()"
   ]
  },
  {
   "cell_type": "code",
   "execution_count": 42,
   "id": "7e04359a",
   "metadata": {},
   "outputs": [
    {
     "data": {
      "text/plain": [
       "C Major     74\n",
       "D Major     66\n",
       "B Minor     64\n",
       "D♭ Major    63\n",
       "G Major     63\n",
       "A Minor     60\n",
       "E Minor     57\n",
       "F# Minor    49\n",
       "B♭ Minor    48\n",
       "A♭ Major    44\n",
       "D♭ Minor    44\n",
       "F Minor     41\n",
       "F Major     38\n",
       "A Major     38\n",
       "B Major     30\n",
       "F# Major    28\n",
       "C Minor     28\n",
       "G Minor     27\n",
       "B♭ Major    22\n",
       "E Major     21\n",
       "D Minor     20\n",
       "A♭ Minor    20\n",
       "E♭ Major    10\n",
       "E♭ Minor     8\n",
       "C# Minor     1\n",
       "Name: Key, dtype: int64"
      ]
     },
     "execution_count": 42,
     "metadata": {},
     "output_type": "execute_result"
    }
   ],
   "source": [
    "df['Key'].value_counts()"
   ]
  },
  {
   "cell_type": "code",
   "execution_count": 43,
   "id": "80c36cb8",
   "metadata": {},
   "outputs": [],
   "source": [
    "df['is_Major'] = 0\n",
    "df.loc[(df['Key'].str.contains('Major')), 'is_Major'] = 1"
   ]
  },
  {
   "cell_type": "code",
   "execution_count": 44,
   "id": "e88b0de4",
   "metadata": {},
   "outputs": [
    {
     "data": {
      "text/plain": [
       "<matplotlib.legend.Legend at 0x11b078fc610>"
      ]
     },
     "execution_count": 44,
     "metadata": {},
     "output_type": "execute_result"
    },
    {
     "data": {
      "image/png": "[encoded data removed]",
      "text/plain": [
       "<Figure size 432x288 with 1 Axes>"
      ]
     },
     "metadata": {},
     "output_type": "display_data"
    }
   ],
   "source": [
    "sns.set_theme(style=\"darkgrid\")\n",
    "ax = sns.countplot(x=\"is_Major\", hue=\"Category\", data=df)\n",
    "plt.legend(loc='upper center')"
   ]
  },
  {
   "cell_type": "code",
   "execution_count": 45,
   "id": "bf70d224",
   "metadata": {},
   "outputs": [],
   "source": [
    "df['Key'] = df['Key'].map(lambda x: x.replace(' Major', ''))\n",
    "df['Key'] = df['Key'].map(lambda x: x.replace(' Minor', ''))"
   ]
  },
  {
   "cell_type": "code",
   "execution_count": 46,
   "id": "611549b2",
   "metadata": {},
   "outputs": [
    {
     "data": {
      "text/plain": [
       "<matplotlib.legend.Legend at 0x11b0787db50>"
      ]
     },
     "execution_count": 46,
     "metadata": {},
     "output_type": "execute_result"
    },
    {
     "name": "stderr",
     "output_type": "stream",
     "text": [
      "D:\\Anaconda\\lib\\site-packages\\IPython\\core\\pylabtools.py:151: UserWarning: Glyph 9837 (\\N{MUSIC FLAT SIGN}) missing from current font.\n",
      "  fig.canvas.print_figure(bytes_io, **kw)\n"
     ]
    },
    {
     "data": {
      "image/png": "[encoded data removed]",
      "text/plain": [
       "<Figure size 432x288 with 1 Axes>"
      ]
     },
     "metadata": {},
     "output_type": "display_data"
    }
   ],
   "source": [
    "sns.set_theme(style=\"darkgrid\")\n",
    "ax = sns.countplot(x=\"Key\", hue=\"Category\", data=df)\n",
    "plt.legend(loc='upper center')"
   ]
  },
  {
   "cell_type": "code",
   "execution_count": 47,
   "id": "99b93aa5",
   "metadata": {},
   "outputs": [
    {
     "data": {
      "text/plain": [
       "D♭    107\n",
       "C     102\n",
       "A      98\n",
       "B      94\n",
       "G      90\n",
       "D      86\n",
       "F      79\n",
       "E      78\n",
       "F#     77\n",
       "B♭     70\n",
       "A♭     64\n",
       "E♭     18\n",
       "C#      1\n",
       "Name: Key, dtype: int64"
      ]
     },
     "execution_count": 47,
     "metadata": {},
     "output_type": "execute_result"
    }
   ],
   "source": [
    "df['Key'].value_counts()"
   ]
  },
  {
   "cell_type": "code",
   "execution_count": 48,
   "id": "3a8f64dd",
   "metadata": {},
   "outputs": [],
   "source": [
    "df.loc[:,\"Key\"] = df[\"Key\"].replace({\"D♭\": \"C#\", \"E♭\": \"D#\", \"G♭\": \"F#\", \"A♭\": \"G#\",\"B♭\":\"A#\"})"
   ]
  },
  {
   "cell_type": "code",
   "execution_count": 49,
   "id": "4269bdb5",
   "metadata": {},
   "outputs": [
    {
     "data": {
      "text/plain": [
       "<matplotlib.legend.Legend at 0x11b0ac2de80>"
      ]
     },
     "execution_count": 49,
     "metadata": {},
     "output_type": "execute_result"
    },
    {
     "data": {
      "image/png": "[encoded data removed]",
      "text/plain": [
       "<Figure size 432x288 with 1 Axes>"
      ]
     },
     "metadata": {},
     "output_type": "display_data"
    }
   ],
   "source": [
    "sns.set_theme(style=\"darkgrid\")\n",
    "ax = sns.countplot(x=\"Key\", hue=\"Category\", data=df)\n",
    "plt.legend(loc='upper center')"
   ]
  },
  {
   "cell_type": "code",
   "execution_count": 50,
   "id": "92421061",
   "metadata": {},
   "outputs": [],
   "source": [
    "from sklearn.preprocessing import OneHotEncoder\n",
    "\n",
    "df[df['Key'].unique()] = OneHotEncoder().fit_transform(df[[\"Key\"]]).toarray()\n"
   ]
  },
  {
   "cell_type": "code",
   "execution_count": 51,
   "id": "5ef6b541",
   "metadata": {},
   "outputs": [],
   "source": [
    "df = df.drop(\"Key\", axis=1)"
   ]
  },
  {
   "cell_type": "code",
   "execution_count": 52,
   "id": "f6f15037",
   "metadata": {},
   "outputs": [
    {
     "data": {
      "text/html": [
       "<div>\n",
       "<style scoped>\n",
       "    .dataframe tbody tr th:only-of-type {\n",
       "        vertical-align: middle;\n",
       "    }\n",
       "\n",
       "    .dataframe tbody tr th {\n",
       "        vertical-align: top;\n",
       "    }\n",
       "\n",
       "    .dataframe thead th {\n",
       "        text-align: right;\n",
       "    }\n",
       "</style>\n",
       "<table border=\"1\" class=\"dataframe\">\n",
       "  <thead>\n",
       "    <tr style=\"text-align: right;\">\n",
       "      <th></th>\n",
       "      <th>Dancebility</th>\n",
       "      <th>Happiness</th>\n",
       "      <th>Energy</th>\n",
       "    </tr>\n",
       "  </thead>\n",
       "  <tbody>\n",
       "    <tr>\n",
       "      <th>count</th>\n",
       "      <td>964.000000</td>\n",
       "      <td>964.000000</td>\n",
       "      <td>964.000000</td>\n",
       "    </tr>\n",
       "    <tr>\n",
       "      <th>mean</th>\n",
       "      <td>63.454357</td>\n",
       "      <td>50.268672</td>\n",
       "      <td>68.751037</td>\n",
       "    </tr>\n",
       "    <tr>\n",
       "      <th>std</th>\n",
       "      <td>16.420202</td>\n",
       "      <td>23.482333</td>\n",
       "      <td>19.162589</td>\n",
       "    </tr>\n",
       "    <tr>\n",
       "      <th>min</th>\n",
       "      <td>15.000000</td>\n",
       "      <td>4.000000</td>\n",
       "      <td>2.000000</td>\n",
       "    </tr>\n",
       "    <tr>\n",
       "      <th>25%</th>\n",
       "      <td>52.750000</td>\n",
       "      <td>32.000000</td>\n",
       "      <td>56.000000</td>\n",
       "    </tr>\n",
       "    <tr>\n",
       "      <th>50%</th>\n",
       "      <td>65.000000</td>\n",
       "      <td>51.000000</td>\n",
       "      <td>71.000000</td>\n",
       "    </tr>\n",
       "    <tr>\n",
       "      <th>75%</th>\n",
       "      <td>76.000000</td>\n",
       "      <td>68.000000</td>\n",
       "      <td>83.000000</td>\n",
       "    </tr>\n",
       "    <tr>\n",
       "      <th>max</th>\n",
       "      <td>97.000000</td>\n",
       "      <td>99.000000</td>\n",
       "      <td>100.000000</td>\n",
       "    </tr>\n",
       "  </tbody>\n",
       "</table>\n",
       "</div>"
      ],
      "text/plain": [
       "       Dancebility   Happiness      Energy\n",
       "count   964.000000  964.000000  964.000000\n",
       "mean     63.454357   50.268672   68.751037\n",
       "std      16.420202   23.482333   19.162589\n",
       "min      15.000000    4.000000    2.000000\n",
       "25%      52.750000   32.000000   56.000000\n",
       "50%      65.000000   51.000000   71.000000\n",
       "75%      76.000000   68.000000   83.000000\n",
       "max      97.000000   99.000000  100.000000"
      ]
     },
     "execution_count": 52,
     "metadata": {},
     "output_type": "execute_result"
    }
   ],
   "source": [
    "df[['Dancebility', 'Happiness', 'Energy']].describe()"
   ]
  },
  {
   "cell_type": "code",
   "execution_count": 53,
   "id": "6f2854e4",
   "metadata": {},
   "outputs": [],
   "source": [
    "df[['Energy%', 'Happiness%', 'Dancebility%']] = df[['Energy', 'Happiness', 'Dancebility']].apply(lambda x: x/sum(x), axis=1)"
   ]
  },
  {
   "cell_type": "code",
   "execution_count": 54,
   "id": "3f39b689",
   "metadata": {},
   "outputs": [
    {
     "data": {
      "text/plain": [
       "<function matplotlib.pyplot.show(close=None, block=None)>"
      ]
     },
     "execution_count": 54,
     "metadata": {},
     "output_type": "execute_result"
    },
    {
     "data": {
      "image/png": "[encoded data removed]",
      "text/plain": [
       "<Figure size 432x288 with 1 Axes>"
      ]
     },
     "metadata": {},
     "output_type": "display_data"
    }
   ],
   "source": [
    "liked = list(df[df['Category'] == 'like']['Energy'])\n",
    "disliked = list(df[df['Category'] == 'dislike']['Energy'])\n",
    "sns.histplot(liked, color='g', kde=False)\n",
    "sns.histplot(disliked, color='r', kde=False)\n",
    "plt.legend(['Like', 'Dislike'])\n",
    "plt.title('Energy')\n",
    "plt.show"
   ]
  },
  {
   "cell_type": "code",
   "execution_count": 55,
   "id": "3bf66b93",
   "metadata": {},
   "outputs": [
    {
     "data": {
      "text/plain": [
       "<function matplotlib.pyplot.show(close=None, block=None)>"
      ]
     },
     "execution_count": 55,
     "metadata": {},
     "output_type": "execute_result"
    },
    {
     "data": {
      "image/png": "[encoded data removed]",
      "text/plain": [
       "<Figure size 432x288 with 1 Axes>"
      ]
     },
     "metadata": {},
     "output_type": "display_data"
    }
   ],
   "source": [
    "liked = list(df[df['Category'] == 'like']['Dancebility'])\n",
    "disliked = list(df[df['Category'] == 'dislike']['Dancebility'])\n",
    "sns.histplot(liked, color='g', kde=False)\n",
    "sns.histplot(disliked, color='r', kde=False)\n",
    "plt.legend(['Like', 'Dislike'])\n",
    "plt.title('Dancebility')\n",
    "plt.show"
   ]
  },
  {
   "cell_type": "code",
   "execution_count": 56,
   "id": "0f0cd3b2",
   "metadata": {},
   "outputs": [
    {
     "data": {
      "text/plain": [
       "<function matplotlib.pyplot.show(close=None, block=None)>"
      ]
     },
     "execution_count": 56,
     "metadata": {},
     "output_type": "execute_result"
    },
    {
     "data": {
      "image/png": "[encoded data removed]",
      "text/plain": [
       "<Figure size 432x288 with 1 Axes>"
      ]
     },
     "metadata": {},
     "output_type": "display_data"
    }
   ],
   "source": [
    "liked = list(df[df['Category'] == 'like']['Happiness'])\n",
    "disliked = list(df[df['Category'] == 'dislike']['Happiness'])\n",
    "sns.histplot(liked, color='g', kde=False)\n",
    "sns.histplot(disliked, color='r', kde=False)\n",
    "plt.legend(['Like', 'Dislike'])\n",
    "plt.title('Happiness')\n",
    "plt.show"
   ]
  },
  {
   "cell_type": "code",
   "execution_count": 57,
   "id": "a446a2f1",
   "metadata": {},
   "outputs": [
    {
     "data": {
      "text/plain": [
       "<function matplotlib.pyplot.show(close=None, block=None)>"
      ]
     },
     "execution_count": 57,
     "metadata": {},
     "output_type": "execute_result"
    },
    {
     "data": {
      "image/png": "[encoded data removed]",
      "text/plain": [
       "<Figure size 432x288 with 1 Axes>"
      ]
     },
     "metadata": {},
     "output_type": "display_data"
    }
   ],
   "source": [
    "liked = list(df[df['Category'] == 'like']['BPM'])\n",
    "disliked = list(df[df['Category'] == 'dislike']['BPM'])\n",
    "sns.histplot(liked, color='g', kde=False)\n",
    "sns.histplot(disliked, color='r', kde=False)\n",
    "plt.legend(['Like', 'Dislike'])\n",
    "plt.title('BPM')\n",
    "plt.show"
   ]
  },
  {
   "cell_type": "code",
   "execution_count": 58,
   "id": "f99561db",
   "metadata": {},
   "outputs": [
    {
     "data": {
      "text/plain": [
       "M      706\n",
       "F      171\n",
       "F|M     76\n",
       "N       11\n",
       "Name: Vocal , dtype: int64"
      ]
     },
     "execution_count": 58,
     "metadata": {},
     "output_type": "execute_result"
    }
   ],
   "source": [
    "df['Vocal '].value_counts()"
   ]
  },
  {
   "cell_type": "code",
   "execution_count": 59,
   "id": "27d28d89",
   "metadata": {},
   "outputs": [],
   "source": [
    "df['Male_vocal'] = 0\n",
    "df['Female_vocal'] = 0\n",
    "df.loc[(df['Vocal '].str.contains('M')), 'Male_vocal'] = 1\n",
    "df.loc[(df['Vocal '].str.contains('F')), 'Female_vocal'] = 1"
   ]
  },
  {
   "cell_type": "code",
   "execution_count": 60,
   "id": "7968e68c",
   "metadata": {},
   "outputs": [],
   "source": [
    "df.drop('Vocal ', axis=1, inplace=True)"
   ]
  },
  {
   "cell_type": "code",
   "execution_count": 61,
   "id": "2d43e233",
   "metadata": {},
   "outputs": [],
   "source": [
    "df.drop('Id', axis=1, inplace=True)"
   ]
  },
  {
   "cell_type": "code",
   "execution_count": 62,
   "id": "3e8b8d08",
   "metadata": {},
   "outputs": [],
   "source": [
    "df['Category'] = df['Category'].replace(['like', 'dislike', 'No_info'], [1, 0, ''])"
   ]
  },
  {
   "cell_type": "code",
   "execution_count": 63,
   "id": "dcb7cb41",
   "metadata": {},
   "outputs": [
    {
     "data": {
      "text/plain": [
       "1    351\n",
       "0    313\n",
       "     300\n",
       "Name: Category, dtype: int64"
      ]
     },
     "execution_count": 63,
     "metadata": {},
     "output_type": "execute_result"
    }
   ],
   "source": [
    "df['Category'].value_counts()"
   ]
  },
  {
   "cell_type": "code",
   "execution_count": 64,
   "id": "9a1e8648",
   "metadata": {},
   "outputs": [
    {
     "name": "stdout",
     "output_type": "stream",
     "text": [
      "<class 'pandas.core.frame.DataFrame'>\n",
      "Int64Index: 964 entries, 0 to 299\n",
      "Data columns (total 57 columns):\n",
      " #   Column          Non-Null Count  Dtype  \n",
      "---  ------          --------------  -----  \n",
      " 0   Category        964 non-null    object \n",
      " 1   Duration        964 non-null    int64  \n",
      " 2   Release_year    964 non-null    int64  \n",
      " 3   BPM             964 non-null    int64  \n",
      " 4   Energy          964 non-null    float64\n",
      " 5   Dancebility     964 non-null    float64\n",
      " 6   Happiness       964 non-null    float64\n",
      " 7   Radio Edit      964 non-null    float64\n",
      " 8   Remaster        964 non-null    float64\n",
      " 9   Remix           964 non-null    float64\n",
      " 10  Single Edit     964 non-null    float64\n",
      " 11  Soundtrack      964 non-null    float64\n",
      " 12  single          964 non-null    float64\n",
      " 13  compilation     964 non-null    float64\n",
      " 14  Other_artists   964 non-null    int64  \n",
      " 15  Artists_tsne_x  964 non-null    float32\n",
      " 16  Artists_tsne_y  964 non-null    float32\n",
      " 17  Genres_tsne_x   964 non-null    float32\n",
      " 18  Genres_tsne_y   964 non-null    float32\n",
      " 19  Albums_tsne_x   964 non-null    float32\n",
      " 20  Albums_tsne_y   964 non-null    float32\n",
      " 21  Release_decade  964 non-null    int64  \n",
      " 22  Labels_tsne_x   964 non-null    float32\n",
      " 23  Labels_tsne_y   964 non-null    float32\n",
      " 24  KZ              964 non-null    int64  \n",
      " 25  DK              964 non-null    int64  \n",
      " 26  COL             964 non-null    int64  \n",
      " 27  No_info         964 non-null    int64  \n",
      " 28  USA             964 non-null    int64  \n",
      " 29  UA              964 non-null    int64  \n",
      " 30  GB              964 non-null    int64  \n",
      " 31  CA              964 non-null    int64  \n",
      " 32  AU              964 non-null    int64  \n",
      " 33  RUS             964 non-null    int64  \n",
      " 34  BAR             964 non-null    int64  \n",
      " 35  FR              964 non-null    int64  \n",
      " 36  KR              964 non-null    int64  \n",
      " 37  SWE             964 non-null    int64  \n",
      " 38  JM              964 non-null    int64  \n",
      " 39  is_Major        964 non-null    int64  \n",
      " 40  F#              964 non-null    float64\n",
      " 41  E               964 non-null    float64\n",
      " 42  C               964 non-null    float64\n",
      " 43  A#              964 non-null    float64\n",
      " 44  G#              964 non-null    float64\n",
      " 45  F               964 non-null    float64\n",
      " 46  A               964 non-null    float64\n",
      " 47  B               964 non-null    float64\n",
      " 48  D               964 non-null    float64\n",
      " 49  D#              964 non-null    float64\n",
      " 50  G               964 non-null    float64\n",
      " 51  C#              964 non-null    float64\n",
      " 52  Energy%         964 non-null    float64\n",
      " 53  Happiness%      964 non-null    float64\n",
      " 54  Dancebility%    964 non-null    float64\n",
      " 55  Male_vocal      964 non-null    int64  \n",
      " 56  Female_vocal    964 non-null    int64  \n",
      "dtypes: float32(8), float64(25), int64(23), object(1)\n",
      "memory usage: 406.7+ KB\n"
     ]
    }
   ],
   "source": [
    "df.info()"
   ]
  },
  {
   "cell_type": "code",
   "execution_count": 65,
   "id": "5547bb94",
   "metadata": {},
   "outputs": [
    {
     "data": {
      "text/html": [
       "<div>\n",
       "<style scoped>\n",
       "    .dataframe tbody tr th:only-of-type {\n",
       "        vertical-align: middle;\n",
       "    }\n",
       "\n",
       "    .dataframe tbody tr th {\n",
       "        vertical-align: top;\n",
       "    }\n",
       "\n",
       "    .dataframe thead th {\n",
       "        text-align: right;\n",
       "    }\n",
       "</style>\n",
       "<table border=\"1\" class=\"dataframe\">\n",
       "  <thead>\n",
       "    <tr style=\"text-align: right;\">\n",
       "      <th></th>\n",
       "      <th>Category</th>\n",
       "      <th>Duration</th>\n",
       "      <th>Release_year</th>\n",
       "      <th>BPM</th>\n",
       "      <th>Energy</th>\n",
       "      <th>Dancebility</th>\n",
       "      <th>Happiness</th>\n",
       "      <th>Radio Edit</th>\n",
       "      <th>Remaster</th>\n",
       "      <th>Remix</th>\n",
       "      <th>Single Edit</th>\n",
       "      <th>Soundtrack</th>\n",
       "      <th>single</th>\n",
       "      <th>compilation</th>\n",
       "      <th>Other_artists</th>\n",
       "      <th>Artists_tsne_x</th>\n",
       "      <th>Artists_tsne_y</th>\n",
       "      <th>Genres_tsne_x</th>\n",
       "      <th>Genres_tsne_y</th>\n",
       "      <th>Albums_tsne_x</th>\n",
       "      <th>Albums_tsne_y</th>\n",
       "      <th>Release_decade</th>\n",
       "      <th>Labels_tsne_x</th>\n",
       "      <th>Labels_tsne_y</th>\n",
       "      <th>KZ</th>\n",
       "      <th>DK</th>\n",
       "      <th>COL</th>\n",
       "      <th>No_info</th>\n",
       "      <th>USA</th>\n",
       "      <th>UA</th>\n",
       "      <th>GB</th>\n",
       "      <th>CA</th>\n",
       "      <th>AU</th>\n",
       "      <th>RUS</th>\n",
       "      <th>BAR</th>\n",
       "      <th>FR</th>\n",
       "      <th>KR</th>\n",
       "      <th>SWE</th>\n",
       "      <th>JM</th>\n",
       "      <th>is_Major</th>\n",
       "      <th>F#</th>\n",
       "      <th>E</th>\n",
       "      <th>C</th>\n",
       "      <th>A#</th>\n",
       "      <th>G#</th>\n",
       "      <th>F</th>\n",
       "      <th>A</th>\n",
       "      <th>B</th>\n",
       "      <th>D</th>\n",
       "      <th>D#</th>\n",
       "      <th>G</th>\n",
       "      <th>C#</th>\n",
       "      <th>Energy%</th>\n",
       "      <th>Happiness%</th>\n",
       "      <th>Dancebility%</th>\n",
       "      <th>Male_vocal</th>\n",
       "      <th>Female_vocal</th>\n",
       "    </tr>\n",
       "  </thead>\n",
       "  <tbody>\n",
       "    <tr>\n",
       "      <th>0</th>\n",
       "      <td>0</td>\n",
       "      <td>253660</td>\n",
       "      <td>2014</td>\n",
       "      <td>93</td>\n",
       "      <td>99.0</td>\n",
       "      <td>42.0</td>\n",
       "      <td>30.0</td>\n",
       "      <td>1.0</td>\n",
       "      <td>0.0</td>\n",
       "      <td>0.0</td>\n",
       "      <td>0.0</td>\n",
       "      <td>0.0</td>\n",
       "      <td>1.0</td>\n",
       "      <td>0.0</td>\n",
       "      <td>1</td>\n",
       "      <td>162.260635</td>\n",
       "      <td>9.238750</td>\n",
       "      <td>-11.745326</td>\n",
       "      <td>3.141928</td>\n",
       "      <td>-194.640579</td>\n",
       "      <td>-94.969101</td>\n",
       "      <td>2010</td>\n",
       "      <td>13.748683</td>\n",
       "      <td>112.125389</td>\n",
       "      <td>0</td>\n",
       "      <td>0</td>\n",
       "      <td>0</td>\n",
       "      <td>0</td>\n",
       "      <td>0</td>\n",
       "      <td>0</td>\n",
       "      <td>0</td>\n",
       "      <td>0</td>\n",
       "      <td>0</td>\n",
       "      <td>0</td>\n",
       "      <td>0</td>\n",
       "      <td>0</td>\n",
       "      <td>0</td>\n",
       "      <td>1</td>\n",
       "      <td>0</td>\n",
       "      <td>1</td>\n",
       "      <td>0.0</td>\n",
       "      <td>0.0</td>\n",
       "      <td>0.0</td>\n",
       "      <td>0.0</td>\n",
       "      <td>0.0</td>\n",
       "      <td>0.0</td>\n",
       "      <td>0.0</td>\n",
       "      <td>0.0</td>\n",
       "      <td>0.0</td>\n",
       "      <td>1.0</td>\n",
       "      <td>0.0</td>\n",
       "      <td>0.0</td>\n",
       "      <td>0.578947</td>\n",
       "      <td>0.175439</td>\n",
       "      <td>0.245614</td>\n",
       "      <td>1</td>\n",
       "      <td>0</td>\n",
       "    </tr>\n",
       "    <tr>\n",
       "      <th>1</th>\n",
       "      <td>1</td>\n",
       "      <td>284150</td>\n",
       "      <td>2019</td>\n",
       "      <td>99</td>\n",
       "      <td>28.0</td>\n",
       "      <td>43.0</td>\n",
       "      <td>4.0</td>\n",
       "      <td>0.0</td>\n",
       "      <td>0.0</td>\n",
       "      <td>0.0</td>\n",
       "      <td>0.0</td>\n",
       "      <td>1.0</td>\n",
       "      <td>1.0</td>\n",
       "      <td>0.0</td>\n",
       "      <td>1</td>\n",
       "      <td>-48.781334</td>\n",
       "      <td>-89.775490</td>\n",
       "      <td>-1.363448</td>\n",
       "      <td>-9.852091</td>\n",
       "      <td>121.751213</td>\n",
       "      <td>-192.292145</td>\n",
       "      <td>2010</td>\n",
       "      <td>-200.836182</td>\n",
       "      <td>387.058960</td>\n",
       "      <td>0</td>\n",
       "      <td>0</td>\n",
       "      <td>0</td>\n",
       "      <td>0</td>\n",
       "      <td>0</td>\n",
       "      <td>0</td>\n",
       "      <td>0</td>\n",
       "      <td>1</td>\n",
       "      <td>0</td>\n",
       "      <td>0</td>\n",
       "      <td>0</td>\n",
       "      <td>0</td>\n",
       "      <td>0</td>\n",
       "      <td>0</td>\n",
       "      <td>0</td>\n",
       "      <td>1</td>\n",
       "      <td>0.0</td>\n",
       "      <td>0.0</td>\n",
       "      <td>0.0</td>\n",
       "      <td>0.0</td>\n",
       "      <td>0.0</td>\n",
       "      <td>0.0</td>\n",
       "      <td>0.0</td>\n",
       "      <td>1.0</td>\n",
       "      <td>0.0</td>\n",
       "      <td>0.0</td>\n",
       "      <td>0.0</td>\n",
       "      <td>0.0</td>\n",
       "      <td>0.373333</td>\n",
       "      <td>0.053333</td>\n",
       "      <td>0.573333</td>\n",
       "      <td>0</td>\n",
       "      <td>1</td>\n",
       "    </tr>\n",
       "    <tr>\n",
       "      <th>2</th>\n",
       "      <td>1</td>\n",
       "      <td>286480</td>\n",
       "      <td>2012</td>\n",
       "      <td>76</td>\n",
       "      <td>55.0</td>\n",
       "      <td>35.0</td>\n",
       "      <td>8.0</td>\n",
       "      <td>0.0</td>\n",
       "      <td>0.0</td>\n",
       "      <td>0.0</td>\n",
       "      <td>0.0</td>\n",
       "      <td>1.0</td>\n",
       "      <td>0.0</td>\n",
       "      <td>1.0</td>\n",
       "      <td>0</td>\n",
       "      <td>17.478596</td>\n",
       "      <td>-189.959702</td>\n",
       "      <td>-5.177856</td>\n",
       "      <td>-11.664622</td>\n",
       "      <td>63.640911</td>\n",
       "      <td>-208.237701</td>\n",
       "      <td>2010</td>\n",
       "      <td>-186.356812</td>\n",
       "      <td>86.714607</td>\n",
       "      <td>0</td>\n",
       "      <td>0</td>\n",
       "      <td>0</td>\n",
       "      <td>0</td>\n",
       "      <td>0</td>\n",
       "      <td>0</td>\n",
       "      <td>1</td>\n",
       "      <td>0</td>\n",
       "      <td>0</td>\n",
       "      <td>0</td>\n",
       "      <td>0</td>\n",
       "      <td>0</td>\n",
       "      <td>0</td>\n",
       "      <td>0</td>\n",
       "      <td>0</td>\n",
       "      <td>0</td>\n",
       "      <td>0.0</td>\n",
       "      <td>0.0</td>\n",
       "      <td>0.0</td>\n",
       "      <td>1.0</td>\n",
       "      <td>0.0</td>\n",
       "      <td>0.0</td>\n",
       "      <td>0.0</td>\n",
       "      <td>0.0</td>\n",
       "      <td>0.0</td>\n",
       "      <td>0.0</td>\n",
       "      <td>0.0</td>\n",
       "      <td>0.0</td>\n",
       "      <td>0.561224</td>\n",
       "      <td>0.081633</td>\n",
       "      <td>0.357143</td>\n",
       "      <td>0</td>\n",
       "      <td>1</td>\n",
       "    </tr>\n",
       "    <tr>\n",
       "      <th>3</th>\n",
       "      <td>1</td>\n",
       "      <td>268440</td>\n",
       "      <td>2001</td>\n",
       "      <td>128</td>\n",
       "      <td>85.0</td>\n",
       "      <td>77.0</td>\n",
       "      <td>87.0</td>\n",
       "      <td>0.0</td>\n",
       "      <td>0.0</td>\n",
       "      <td>0.0</td>\n",
       "      <td>0.0</td>\n",
       "      <td>1.0</td>\n",
       "      <td>1.0</td>\n",
       "      <td>0.0</td>\n",
       "      <td>1</td>\n",
       "      <td>25.275446</td>\n",
       "      <td>62.750996</td>\n",
       "      <td>3.427704</td>\n",
       "      <td>84.675621</td>\n",
       "      <td>-86.844742</td>\n",
       "      <td>-208.727554</td>\n",
       "      <td>2000</td>\n",
       "      <td>480.931000</td>\n",
       "      <td>-37.533569</td>\n",
       "      <td>0</td>\n",
       "      <td>0</td>\n",
       "      <td>0</td>\n",
       "      <td>0</td>\n",
       "      <td>1</td>\n",
       "      <td>0</td>\n",
       "      <td>0</td>\n",
       "      <td>0</td>\n",
       "      <td>0</td>\n",
       "      <td>0</td>\n",
       "      <td>0</td>\n",
       "      <td>0</td>\n",
       "      <td>0</td>\n",
       "      <td>0</td>\n",
       "      <td>0</td>\n",
       "      <td>1</td>\n",
       "      <td>0.0</td>\n",
       "      <td>0.0</td>\n",
       "      <td>0.0</td>\n",
       "      <td>0.0</td>\n",
       "      <td>0.0</td>\n",
       "      <td>0.0</td>\n",
       "      <td>0.0</td>\n",
       "      <td>1.0</td>\n",
       "      <td>0.0</td>\n",
       "      <td>0.0</td>\n",
       "      <td>0.0</td>\n",
       "      <td>0.0</td>\n",
       "      <td>0.341365</td>\n",
       "      <td>0.349398</td>\n",
       "      <td>0.309237</td>\n",
       "      <td>1</td>\n",
       "      <td>0</td>\n",
       "    </tr>\n",
       "    <tr>\n",
       "      <th>4</th>\n",
       "      <td>0</td>\n",
       "      <td>311420</td>\n",
       "      <td>2007</td>\n",
       "      <td>104</td>\n",
       "      <td>72.0</td>\n",
       "      <td>62.0</td>\n",
       "      <td>49.0</td>\n",
       "      <td>1.0</td>\n",
       "      <td>0.0</td>\n",
       "      <td>0.0</td>\n",
       "      <td>0.0</td>\n",
       "      <td>0.0</td>\n",
       "      <td>1.0</td>\n",
       "      <td>0.0</td>\n",
       "      <td>0</td>\n",
       "      <td>-208.548386</td>\n",
       "      <td>129.799515</td>\n",
       "      <td>31.657103</td>\n",
       "      <td>2.938137</td>\n",
       "      <td>13.957136</td>\n",
       "      <td>23.960255</td>\n",
       "      <td>2000</td>\n",
       "      <td>57.230453</td>\n",
       "      <td>-25.128155</td>\n",
       "      <td>0</td>\n",
       "      <td>0</td>\n",
       "      <td>0</td>\n",
       "      <td>0</td>\n",
       "      <td>1</td>\n",
       "      <td>0</td>\n",
       "      <td>0</td>\n",
       "      <td>0</td>\n",
       "      <td>0</td>\n",
       "      <td>0</td>\n",
       "      <td>0</td>\n",
       "      <td>0</td>\n",
       "      <td>0</td>\n",
       "      <td>0</td>\n",
       "      <td>0</td>\n",
       "      <td>0</td>\n",
       "      <td>0.0</td>\n",
       "      <td>1.0</td>\n",
       "      <td>0.0</td>\n",
       "      <td>0.0</td>\n",
       "      <td>0.0</td>\n",
       "      <td>0.0</td>\n",
       "      <td>0.0</td>\n",
       "      <td>0.0</td>\n",
       "      <td>0.0</td>\n",
       "      <td>0.0</td>\n",
       "      <td>0.0</td>\n",
       "      <td>0.0</td>\n",
       "      <td>0.393443</td>\n",
       "      <td>0.267760</td>\n",
       "      <td>0.338798</td>\n",
       "      <td>1</td>\n",
       "      <td>0</td>\n",
       "    </tr>\n",
       "  </tbody>\n",
       "</table>\n",
       "</div>"
      ],
      "text/plain": [
       "  Category  Duration  Release_year  BPM  Energy  Dancebility  Happiness  \\\n",
       "0        0    253660          2014   93    99.0         42.0       30.0   \n",
       "1        1    284150          2019   99    28.0         43.0        4.0   \n",
       "2        1    286480          2012   76    55.0         35.0        8.0   \n",
       "3        1    268440          2001  128    85.0         77.0       87.0   \n",
       "4        0    311420          2007  104    72.0         62.0       49.0   \n",
       "\n",
       "   Radio Edit  Remaster  Remix  Single Edit  Soundtrack  single  compilation  \\\n",
       "0         1.0       0.0    0.0          0.0         0.0     1.0          0.0   \n",
       "1         0.0       0.0    0.0          0.0         1.0     1.0          0.0   \n",
       "2         0.0       0.0    0.0          0.0         1.0     0.0          1.0   \n",
       "3         0.0       0.0    0.0          0.0         1.0     1.0          0.0   \n",
       "4         1.0       0.0    0.0          0.0         0.0     1.0          0.0   \n",
       "\n",
       "   Other_artists  Artists_tsne_x  Artists_tsne_y  Genres_tsne_x  \\\n",
       "0              1      162.260635        9.238750     -11.745326   \n",
       "1              1      -48.781334      -89.775490      -1.363448   \n",
       "2              0       17.478596     -189.959702      -5.177856   \n",
       "3              1       25.275446       62.750996       3.427704   \n",
       "4              0     -208.548386      129.799515      31.657103   \n",
       "\n",
       "   Genres_tsne_y  Albums_tsne_x  Albums_tsne_y  Release_decade  Labels_tsne_x  \\\n",
       "0       3.141928    -194.640579     -94.969101            2010      13.748683   \n",
       "1      -9.852091     121.751213    -192.292145            2010    -200.836182   \n",
       "2     -11.664622      63.640911    -208.237701            2010    -186.356812   \n",
       "3      84.675621     -86.844742    -208.727554            2000     480.931000   \n",
       "4       2.938137      13.957136      23.960255            2000      57.230453   \n",
       "\n",
       "   Labels_tsne_y  KZ  DK  COL  No_info  USA  UA  GB  CA  AU  RUS  BAR  FR  KR  \\\n",
       "0     112.125389   0   0    0        0    0   0   0   0   0    0    0   0   0   \n",
       "1     387.058960   0   0    0        0    0   0   0   1   0    0    0   0   0   \n",
       "2      86.714607   0   0    0        0    0   0   1   0   0    0    0   0   0   \n",
       "3     -37.533569   0   0    0        0    1   0   0   0   0    0    0   0   0   \n",
       "4     -25.128155   0   0    0        0    1   0   0   0   0    0    0   0   0   \n",
       "\n",
       "   SWE  JM  is_Major   F#    E    C   A#   G#    F    A    B    D   D#    G  \\\n",
       "0    1   0         1  0.0  0.0  0.0  0.0  0.0  0.0  0.0  0.0  0.0  1.0  0.0   \n",
       "1    0   0         1  0.0  0.0  0.0  0.0  0.0  0.0  0.0  1.0  0.0  0.0  0.0   \n",
       "2    0   0         0  0.0  0.0  0.0  1.0  0.0  0.0  0.0  0.0  0.0  0.0  0.0   \n",
       "3    0   0         1  0.0  0.0  0.0  0.0  0.0  0.0  0.0  1.0  0.0  0.0  0.0   \n",
       "4    0   0         0  0.0  1.0  0.0  0.0  0.0  0.0  0.0  0.0  0.0  0.0  0.0   \n",
       "\n",
       "    C#   Energy%  Happiness%  Dancebility%  Male_vocal  Female_vocal  \n",
       "0  0.0  0.578947    0.175439      0.245614           1             0  \n",
       "1  0.0  0.373333    0.053333      0.573333           0             1  \n",
       "2  0.0  0.561224    0.081633      0.357143           0             1  \n",
       "3  0.0  0.341365    0.349398      0.309237           1             0  \n",
       "4  0.0  0.393443    0.267760      0.338798           1             0  "
      ]
     },
     "execution_count": 65,
     "metadata": {},
     "output_type": "execute_result"
    }
   ],
   "source": [
    "df.head()"
   ]
  },
  {
   "cell_type": "code",
   "execution_count": 66,
   "id": "d304da8b",
   "metadata": {},
   "outputs": [
    {
     "data": {
      "text/plain": [
       "(964, 57)"
      ]
     },
     "execution_count": 66,
     "metadata": {},
     "output_type": "execute_result"
    }
   ],
   "source": [
    "df.shape"
   ]
  },
  {
   "cell_type": "code",
   "execution_count": 67,
   "id": "bac5b157",
   "metadata": {},
   "outputs": [],
   "source": [
    "df.drop(['Release_year', 'BPM'], axis=1, inplace=True)"
   ]
  },
  {
   "cell_type": "code",
   "execution_count": 68,
   "id": "2a34470e",
   "metadata": {},
   "outputs": [],
   "source": [
    "train_data = df.iloc[:-300, df.columns != 'Category']"
   ]
  },
  {
   "cell_type": "code",
   "execution_count": 69,
   "id": "363b4393",
   "metadata": {},
   "outputs": [],
   "source": [
    "train_target = df.iloc[:-300, df.columns == 'Category']"
   ]
  },
  {
   "cell_type": "code",
   "execution_count": 70,
   "id": "83226df8",
   "metadata": {},
   "outputs": [],
   "source": [
    "test_data = df.iloc[-300:, df.columns != 'Category']"
   ]
  },
  {
   "cell_type": "code",
   "execution_count": 71,
   "id": "fe2380e7",
   "metadata": {},
   "outputs": [],
   "source": [
    "train_target=train_target.astype('int')"
   ]
  },
  {
   "cell_type": "code",
   "execution_count": 72,
   "id": "4b97ce4f",
   "metadata": {},
   "outputs": [],
   "source": [
    "from sklearn.preprocessing import MinMaxScaler\n",
    "\n",
    "scaler = MinMaxScaler()\n",
    "scaler.fit(train_data)\n",
    "train_data = pd.DataFrame(data=scaler.transform(train_data))\n",
    "test_data = pd.DataFrame(data=scaler.transform(test_data))"
   ]
  },
  {
   "cell_type": "code",
   "execution_count": 73,
   "id": "7c450b7d",
   "metadata": {},
   "outputs": [],
   "source": [
    "train_data = train_data.values\n",
    "train_target = train_target.values\n",
    "test_data = test_data.values"
   ]
  },
  {
   "cell_type": "code",
   "execution_count": 74,
   "id": "6586980c",
   "metadata": {},
   "outputs": [],
   "source": [
    "from sklearn.model_selection import train_test_split\n",
    "\n",
    "X_train,X_test,Y_train,Y_test = train_test_split(train_data,train_target,test_size=0.1,random_state=1133, shuffle=False)"
   ]
  },
  {
   "cell_type": "code",
   "execution_count": 78,
   "id": "f49839a8",
   "metadata": {},
   "outputs": [
    {
     "name": "stdout",
     "output_type": "stream",
     "text": [
      "[2022-05-16 14:56:56.907] Start to fit the model:\n",
      "[2022-05-16 14:56:56.927] Fitting cascade layer = 0 \n"
     ]
    },
    {
     "name": "stderr",
     "output_type": "stream",
     "text": [
      "D:\\Anaconda\\lib\\site-packages\\sklearn\\preprocessing\\_label.py:115: DataConversionWarning: A column-vector y was passed when a 1d array was expected. Please change the shape of y to (n_samples, ), for example using ravel().\n",
      "  y = column_or_1d(y, warn=True)\n"
     ]
    },
    {
     "name": "stdout",
     "output_type": "stream",
     "text": [
      "[2022-05-16 14:56:57.666] layer = 0  | Val Acc = 63.652 % | Elapsed = 0.739 s\n",
      "[2022-05-16 14:56:57.669] Fitting cascade layer = 1 \n",
      "[2022-05-16 14:56:58.395] layer = 1  | Val Acc = 62.982 % | Elapsed = 0.726 s\n",
      "[2022-05-16 14:56:58.396] Early stopping counter: 1 out of 2\n",
      "[2022-05-16 14:56:58.398] Fitting cascade layer = 2 \n",
      "[2022-05-16 14:56:59.132] layer = 2  | Val Acc = 61.977 % | Elapsed = 0.733 s\n",
      "[2022-05-16 14:56:59.133] Early stopping counter: 2 out of 2\n",
      "[2022-05-16 14:56:59.133] Handling early stopping\n",
      "[2022-05-16 14:56:59.133] The optimal number of layers: 1\n"
     ]
    }
   ],
   "source": [
    "from deepforest import CascadeForestClassifier\n",
    "\n",
    "model=CascadeForestClassifier(random_state=2,n_trees=54)\n",
    "model.fit(X_train,Y_train)"
   ]
  },
  {
   "cell_type": "code",
   "execution_count": 79,
   "id": "06a79b78",
   "metadata": {},
   "outputs": [
    {
     "name": "stdout",
     "output_type": "stream",
     "text": [
      "[2022-05-16 14:56:59.143] Start to evalute the model:\n",
      "[2022-05-16 14:56:59.144] Evaluating cascade layer = 0 \n",
      "Accuracy with MLPClassifier:  0.7164179104477612\n"
     ]
    }
   ],
   "source": [
    "y_pred=model.predict(X_test)\n",
    "accuracy = accuracy_score(Y_test, y_pred)\n",
    "print('Accuracy with MLPClassifier: ', accuracy)"
   ]
  },
  {
   "cell_type": "code",
   "execution_count": 93,
   "id": "d8b94082",
   "metadata": {},
   "outputs": [
    {
     "name": "stdout",
     "output_type": "stream",
     "text": [
      "[2022-05-16 15:31:12.552] Start to evalute the model:\n",
      "[2022-05-16 15:31:12.553] Evaluating cascade layer = 0 \n"
     ]
    }
   ],
   "source": [
    "pred_answer = model.predict(test_data)"
   ]
  },
  {
   "cell_type": "code",
   "execution_count": 94,
   "id": "4972845c",
   "metadata": {},
   "outputs": [],
   "source": [
    "subm=pd.read_csv('sample_submition.csv')"
   ]
  },
  {
   "cell_type": "code",
   "execution_count": 95,
   "id": "7eedf61f",
   "metadata": {},
   "outputs": [],
   "source": [
    "subm.Category = pred_answer"
   ]
  },
  {
   "cell_type": "code",
   "execution_count": 96,
   "id": "b93492ff",
   "metadata": {},
   "outputs": [],
   "source": [
    "subm.to_csv('submission.csv',index=False)"
   ]
  },
  {
   "cell_type": "code",
   "execution_count": null,
   "id": "764694a6",
   "metadata": {},
   "outputs": [],
   "source": []
  }
 ],
 "metadata": {
  "kernelspec": {
   "display_name": "Python 3 (ipykernel)",
   "language": "python",
   "name": "python3"
  },
  "language_info": {
   "codemirror_mode": {
    "name": "ipython",
    "version": 3
   },
   "file_extension": ".py",
   "mimetype": "text/x-python",
   "name": "python",
   "nbconvert_exporter": "python",
   "pygments_lexer": "ipython3",
   "version": "3.9.7"
  }
 },
 "nbformat": 4,
 "nbformat_minor": 5
}
